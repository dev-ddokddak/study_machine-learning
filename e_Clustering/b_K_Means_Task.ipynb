{
 "cells": [
  {
   "cell_type": "markdown",
   "id": "42613afb",
   "metadata": {},
   "source": [
    "### K-Means Task\n",
    "\n",
    "##### 은행 고객 마케팅\n",
    "📌 마케팅에 성공한 고객을 대상으로 클러스터링을 진행한다.\n",
    "\n",
    "- age: 나이\n",
    "- job : 직업 종류 ('admin.','blue-collar','entrepreneur','housemaid','management','retired',  \n",
    "'self-employed','services','student','technician','unemployed','unknown')\n",
    "- marital: 결혼 여부 ('divorced','married','single','unknown'; note: 'divorced' means divorced or widowed)\n",
    "- education: 교육 수준 ('basic.4y','basic.6y','basic.9y','high.school','illiterate','professional.course','university.degree','unknown')\n",
    "- default: 연체 여부 ('no','yes','unknown')\n",
    "- housing: 주택 대출 여부 ('no','yes','unknown')\n",
    "- loan: 개인 대출 여부 ('no','yes','unknown')\n",
    "- contact: 연락처 통신 유형('cellular','telephone')\n",
    "- month: 지난 연락 월 ('jan', 'feb', 'mar', ..., 'nov', 'dec')\n",
    "- day_of_week: 지난 연락 요일 ('mon','tue','wed','thu','fri')\n",
    "- poutcome: 이전 마케팅 캠페인의 결과('failure','nonexistent','success')"
   ]
  }
 ],
 "metadata": {
  "kernelspec": {
   "display_name": "Python 3 (ipykernel)",
   "language": "python",
   "name": "python3"
  },
  "language_info": {
   "codemirror_mode": {
    "name": "ipython",
    "version": 3
   },
   "file_extension": ".py",
   "mimetype": "text/x-python",
   "name": "python",
   "nbconvert_exporter": "python",
   "pygments_lexer": "ipython3",
   "version": "3.11.5"
  }
 },
 "nbformat": 4,
 "nbformat_minor": 5
}
