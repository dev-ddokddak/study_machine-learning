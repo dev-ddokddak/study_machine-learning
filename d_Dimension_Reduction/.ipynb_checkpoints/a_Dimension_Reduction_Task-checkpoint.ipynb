{
 "cells": [
  {
   "cell_type": "markdown",
   "id": "94519b47",
   "metadata": {},
   "source": [
    "### PCA Task\n",
    "\n",
    "##### 뇌암 유전자 발현 예측\n",
    "\n",
    "https://drive.google.com/file/d/19ZtDpQoR2Qq0_66xUVOU_NOAJnq251Vg/view?usp=sharing"
   ]
  },
  {
   "cell_type": "code",
   "execution_count": null,
   "id": "8b025802",
   "metadata": {},
   "outputs": [],
   "source": [
    "import pandas as pd\n",
    "\n",
    "brain_df = pd.read_csv('./datasets/brain_cancer.csv')\n",
    "brain_df"
   ]
  }
 ],
 "metadata": {
  "kernelspec": {
   "display_name": "Python 3 (ipykernel)",
   "language": "python",
   "name": "python3"
  },
  "language_info": {
   "codemirror_mode": {
    "name": "ipython",
    "version": 3
   },
   "file_extension": ".py",
   "mimetype": "text/x-python",
   "name": "python",
   "nbconvert_exporter": "python",
   "pygments_lexer": "ipython3",
   "version": "3.11.5"
  }
 },
 "nbformat": 4,
 "nbformat_minor": 5
}
