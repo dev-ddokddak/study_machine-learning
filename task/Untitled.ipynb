{
 "cells": [
  {
   "cell_type": "code",
   "execution_count": 1,
   "id": "21e12a17",
   "metadata": {},
   "outputs": [
    {
     "name": "stdout",
     "output_type": "stream",
     "text": [
      "CSV 파일이 성공적으로 저장되었습니다.\n"
     ]
    }
   ],
   "source": [
    "import requests\n",
    "\n",
    "# 웹사이트 URL\n",
    "url = 'https://raw.githubusercontent.com/satishgunjal/datasets/master/Fish.csv'\n",
    "\n",
    "# URL에서 데이터를 가져오기\n",
    "response = requests.get(url)\n",
    "\n",
    "# 응답이 성공적인지 확인\n",
    "if response.status_code == 200:\n",
    "    # 파일을 로컬 시스템에 저장\n",
    "    with open('Fish.csv', 'w', encoding='utf-8') as file:\n",
    "        file.write(response.text)\n",
    "    print(\"CSV 파일이 성공적으로 저장되었습니다.\")\n",
    "else:\n",
    "    print(\"파일 다운로드 실패: 상태 코드\", response.status_code)\n"
   ]
  }
 ],
 "metadata": {
  "kernelspec": {
   "display_name": "Python 3 (ipykernel)",
   "language": "python",
   "name": "python3"
  },
  "language_info": {
   "codemirror_mode": {
    "name": "ipython",
    "version": 3
   },
   "file_extension": ".py",
   "mimetype": "text/x-python",
   "name": "python",
   "nbconvert_exporter": "python",
   "pygments_lexer": "ipython3",
   "version": "3.11.5"
  }
 },
 "nbformat": 4,
 "nbformat_minor": 5
}
