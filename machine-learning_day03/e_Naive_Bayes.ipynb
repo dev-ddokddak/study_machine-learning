{
 "cells": [
  {
   "cell_type": "markdown",
   "id": "fd97302d",
   "metadata": {},
   "source": [
    "### 베이즈 추론, 베이즈 정리, 베이즈 추정(Bayesian Inference)\n",
    "- 역확률(inverse probability) 문제를 해결하기 위한 방법으로서, 조건부 확률(P(B|A))을 알고 있을 때 정반대인 조건부 확률(P(A|B))을 구하는 방법이다.\n",
    "> 📌조건부 확률(Conditional probability): 두 사건 A, B가 있을 때, 사건 A가 일어났을 때 B가 일어날 확률이다.\n",
    "<img src=\"./images/conditional_probability.png\" width=\"200\" style=\"margin-top:20px; margin-left:0\">\n",
    "- 추론 대상의 사전 확률과 추가적인 정보를 기반으로 해당 대상의 \"사후 확률\"을 추론하는 통계적 방법이다.  \n",
    "📌사후 확률이란, 어떤 사건이 발생한 후 앞으로 일어나게 될 다른 사건의 가능성을 구하는 것이다.\n",
    "- 어떤 사건이 서로 \"배반\"하는(독립하는) 원인 둘에 의해 일어난다고 하면, 실제 사건이 일어났을 때 이 사건이 두 원인 중 하나일 확률을 구하는 방식이다.  \n",
    "📌배반하는 원인이란, 하나의 사건이 일어난 원인의 확률이 다른 원인의 확률에 영향을 미치지 않고 각각 독립적이라는 뜻이다.\n",
    "- 어떤 상황에서 N개의 원인이 있을 때, 실제 사건이 발생하면 N개 중 한 가지 원인일 확률을 구하는 방법이다.\n",
    "- 기존 사건들의 확률을 알 수 없을 때 전혀 사용할 수 없는 방식이다.  \n",
    "하지만 그 간 데이터가 쌓이면서, 기존 사건들의 확률을 대략적으로 뽑아낼 수 있게 되었다.  \n",
    "이로 인해, 사회적 통계나 주식에서 베이즈 정리 활용이 필수로 꼽히고 있다.  \n",
    "\n",
    "> ##### 예시\n",
    "질병 A의 양성판정 정확도가 80%인 검사기가 있다. 검사를 시행해서 양성이 나왔다면, 이 사람이 80%의 확률로 병에 걸렸다고 이야기할 수 없다. 왜냐하면 검사기가 알려주는 확률과 양성일 경우 질병을 앓고 있을 확률은 조건부 확률의 의미에서 정반대이기 때문이다.  \n",
    "<table style=\"width:50%; margin-left: 50px\">\n",
    "    <tr>\n",
    "        <th>전제</th>\n",
    "        <th>관심 사건</th>\n",
    "        <th>확률</th>\n",
    "    </tr>\n",
    "    <tr>\n",
    "        <th>병을 앓고 있다</th>\n",
    "        <th>양성이다</th>\n",
    "        <th>80%</th>\n",
    "    </tr>\n",
    "    <tr>\n",
    "        <th>양성이다</th>\n",
    "        <th>병을 앓고 있다</th>\n",
    "        <th>알수 없음</th>\n",
    "    </tr>\n",
    "</table>  \n",
    "\n",
    "> 이런 식의 확률을 구해야 하는 문제를 역확률 문제라고 하고 이를 베이즈 추론을 활용하여 구할 수 있다.  \n",
    "단, 검사 대상인 질병의 유병률(사전 확률, 기존 사건들의 확률)을 알고 있어야 한다.  \n",
    "전세계 인구 중 10%의 사람들이 질병 A를 앓는다고 가정한다.\n",
    "<div style=\"width: 60%; display:flex; margin-top: -20px; margin-left:30px\">\n",
    "    <div>\n",
    "        <img src=\"./images/bayesian_inference01.png\" width=\"300\" style=\"margin-top:20px; margin-left:0\">\n",
    "    </div>\n",
    "    <div style=\"margin-top: 28px; margin-left: 20px\">\n",
    "        <img src=\"./images/bayesian_inference02.png\" width=\"310\" style=\"margin-top:20px; margin-left:0\">\n",
    "    </div>\n",
    "</div>  \n",
    "\n",
    "<div style=\"width: 60%; display:flex; margin-left:30px\">\n",
    "    <div>\n",
    "        <img src=\"./images/bayesian_inference03.png\" width=\"800\" style=\"margin-top:20px; margin-left:0\">\n",
    "    </div>\n",
    "    <div style=\"margin-top: 28px; margin-left: 20px\">\n",
    "        <img src=\"./images/bayesian_inference04.png\" width=\"550\" style=\"margin-top:-8px; margin-left:0\">\n",
    "    </div>\n",
    "</div>  \n",
    "\n",
    "> 🚩결과: 약 30.8%\n",
    "<img src=\"./images/bayesian_inference05.png\" width=\"200\" style=\"margin-top:20px; margin-left:0\">\n"
   ]
  },
  {
   "cell_type": "markdown",
   "id": "c538fbe1",
   "metadata": {},
   "source": [
    "### 나이브 베이즈 분류(Naive Bayes Classifier)\n",
    "- 텍스트 분류를 위해 전통적으로 사용되는 분류기로서, 분류에 있어서 준수한 성능을 보인다.\n",
    "- 베이즈 정리에 기반한 통계적 분류 기법으로서, 정확성도 높고 대용량 데이터에 대한 속도도 빠르다.\n",
    "- 반드시 모든 feature가 서로 독립(independent)적이어야 한다. 즉, 서로 영향을 미치지 않는 feature들로 구성되어야 한다.\n",
    "- 감정 분석, 스팸 메일 필터링, 텍스트 분류, 추천 시스템 등 여러 서비스에서 활용되는 분류 기법이다.\n",
    "- 빠르고 정확하고 간단한 분류 방법이지만, 실제 데이터에서 모든 feature가 독립적인 경우는 드물기 때문에 실생활에 적용하기 힘들다.\n",
    "<img src=\"./images/naive_bayes_classifier.png\" width=\"400\" style=\"margin-left: 0\">"
   ]
  },
  {
   "cell_type": "markdown",
   "id": "f52297c9",
   "metadata": {},
   "source": [
    "### 나이브 베이즈 종류\n",
    "##### BernoulliNB(베르누이 나이브 베이즈)  \n",
    "- 가장 기본적인 NB 함수로 이진 분류에 사용한다.\n",
    "##### CategoricalNB  \n",
    "- 분류할 카테고리의 종류가 3가지 이상일 때 사용한다.\n",
    "##### MultinomialNB (멀타이노우미얼(다항) 나이브 베이즈) \n",
    "- 텍스트의 등장 횟수처럼 이산적인 값의 수를 예측할 때 사용한다.\n",
    "##### GaussianNB (가우시안 나이브 베이즈) \n",
    "- 예측할 값이 연속적인 값인 경우에 사용한다.\n",
    "##### ComplementNB  \n",
    "- target label의 balance가 맞지 않는 불균형한 상황에 사용한다."
   ]
  }
 ],
 "metadata": {
  "kernelspec": {
   "display_name": "Python 3 (ipykernel)",
   "language": "python",
   "name": "python3"
  },
  "language_info": {
   "codemirror_mode": {
    "name": "ipython",
    "version": 3
   },
   "file_extension": ".py",
   "mimetype": "text/x-python",
   "name": "python",
   "nbconvert_exporter": "python",
   "pygments_lexer": "ipython3",
   "version": "3.11.5"
  }
 },
 "nbformat": 4,
 "nbformat_minor": 5
}
