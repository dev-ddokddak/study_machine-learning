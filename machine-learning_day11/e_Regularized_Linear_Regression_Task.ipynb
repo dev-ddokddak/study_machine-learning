{
 "cells": [
  {
   "cell_type": "markdown",
   "id": "83d97ac5",
   "metadata": {},
   "source": [
    "### Regularized Linear Regression Task\n",
    "\n",
    "##### 다이아몬드 가격 예측\n",
    "\n",
    "- price: 미국 달러로 표시된 가격 (＄326 ~ ＄18,823)\n",
    "- carat: 다이아몬드의 무게(0.2 ~ 5.01)\n",
    "- cut: 품질(공정, 좋음, 매우 좋음, 프리미엄, 이상적)\n",
    "- color: 다이아몬드 색상, J(최악)부터 D(최우수)까지\n",
    "- clarity: 다이아몬드가 얼마나 선명한지에 대한 측정값 (I1(최악), SI2, SI1, VS2, VS1, VVS2, VVS1, IF(최우수))\n",
    "- x: 길이(mm) (0 ~ 10.74)\n",
    "- y: 너비(mm)(0 ~ 58.9)\n",
    "- z: 깊이(mm)(0 ~ 31.8)\n",
    "- depth: 총 깊이 백분율 = z / 평균(x, y) = 2 * z / (x + y) (43–79)\n",
    "- table: 가장 넓은 점에 대한 다이아몬드 상단 폭(43 ~ 95)"
   ]
  },
  {
   "cell_type": "code",
   "execution_count": null,
   "id": "205f09bb",
   "metadata": {},
   "outputs": [],
   "source": []
  }
 ],
 "metadata": {
  "kernelspec": {
   "display_name": "Python 3 (ipykernel)",
   "language": "python",
   "name": "python3"
  },
  "language_info": {
   "codemirror_mode": {
    "name": "ipython",
    "version": 3
   },
   "file_extension": ".py",
   "mimetype": "text/x-python",
   "name": "python",
   "nbconvert_exporter": "python",
   "pygments_lexer": "ipython3",
   "version": "3.11.5"
  }
 },
 "nbformat": 4,
 "nbformat_minor": 5
}
