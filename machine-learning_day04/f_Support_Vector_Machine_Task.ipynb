{
 "cells": [
  {
   "cell_type": "markdown",
   "id": "da62017d",
   "metadata": {},
   "source": [
    "### Support Vector Classifier Task\n",
    "\n",
    "##### 심장마비 가능성 예측\n",
    "\n",
    "\n",
    "##### feature\n",
    "- age: 환자의 나이  \n",
    "- sex: 환자의 성별 (0 = female, 1 = male).  \n",
    "- cp: 흉통성 (1 = typical angina(전형 협심증), 2 = atypical angina(비전형 협심증), 3 = non-anginal pain(비협심증), 4 = asymptomatic(무증상))  \n",
    "- trestbps: 정지 혈압(mmHg)  \n",
    "- chol: 혈청 콜레스테롤 수치(mg/dl)  \n",
    "- fbs: 공복혈당 (> 120mg/dl) (1 = true, 0 = false)  \n",
    "- restecg: 정지 심전도 결과 (0 = normal, 1 = having ST-T wave abnormality(ST-T파 이상), 2 = probable or definite left ventricular hypertrophy(좌심실 비대 가능성 또는 확실성))  \n",
    "- thalach: 최대 심박수  \n",
    "- exang: 운동 유발 협심증 (1 = yes, 0 = no)  \n",
    "- oldpeak: 휴식과 관련된 운동으로 인한 ST 우울증  \n",
    "- slope: 피크 운동 ST 세그먼트의 기울기  \n",
    "- ca: 형광 투시법으로 채색된 주요 혈관의 수  \n",
    "- thal: 탈라세미아(혈액장애의 일종) results (3 = normal, 6 = fixed defect(고정결함), 7 = reversible defect(가역결함))  \n",
    "\n",
    "##### target\n",
    "- output : 1 = 심장마비 존재, 0 = 심장마비 없음"
   ]
  }
 ],
 "metadata": {
  "kernelspec": {
   "display_name": "Python 3 (ipykernel)",
   "language": "python",
   "name": "python3"
  },
  "language_info": {
   "codemirror_mode": {
    "name": "ipython",
    "version": 3
   },
   "file_extension": ".py",
   "mimetype": "text/x-python",
   "name": "python",
   "nbconvert_exporter": "python",
   "pygments_lexer": "ipython3",
   "version": "3.11.5"
  }
 },
 "nbformat": 4,
 "nbformat_minor": 5
}
