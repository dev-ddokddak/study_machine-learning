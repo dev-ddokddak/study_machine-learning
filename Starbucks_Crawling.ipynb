{
 "cells": [
  {
   "cell_type": "code",
   "execution_count": 1,
   "id": "932acc3c",
   "metadata": {},
   "outputs": [],
   "source": [
    "# pip install selenium==3.141.0\n",
    "\n"
   ]
  },
  {
   "cell_type": "code",
   "execution_count": 2,
   "id": "3fb01340",
   "metadata": {},
   "outputs": [],
   "source": [
    "# pip install html5lib\n"
   ]
  },
  {
   "cell_type": "code",
   "execution_count": 3,
   "id": "0ab1db43",
   "metadata": {},
   "outputs": [
    {
     "ename": "SystemExit",
     "evalue": "0",
     "output_type": "error",
     "traceback": [
      "An exception has occurred, use %tb to see the full traceback.\n",
      "\u001b[0;31mSystemExit\u001b[0m\u001b[0;31m:\u001b[0m 0\n"
     ]
    },
    {
     "name": "stderr",
     "output_type": "stream",
     "text": [
      "/Users/viceliln/Desktop/KDT_0900_Cho/anaconda3/lib/python3.11/site-packages/IPython/core/interactiveshell.py:3534: UserWarning: To exit: use 'exit', 'quit', or Ctrl-D.\n",
      "  warn(\"To exit: use 'exit', 'quit', or Ctrl-D.\", stacklevel=1)\n"
     ]
    }
   ],
   "source": [
    "import pandas as pd\n",
    "import sys\n",
    "from selenium import webdriver as wd\n",
    "import time\n",
    "from bs4 import BeautifulSoup\n",
    "import random\n",
    "\n",
    "\n",
    "def term_make(x, y): return random.randint(x, y)*0.1  # 0.1 ~ 0.9\n",
    "\n",
    "\n",
    "driver = wd.Chrome('/opt/homebrew/bin/chromedriver')\n",
    "\n",
    "#driver = wd.Chrome('.//chromedriver.exe')\n",
    "\n",
    "# 모든 지점의 정보를 담는 그릇\n",
    "starbucks_store_infos = list()\n",
    "\n",
    "for sido_idx in range(1, 17+1):\n",
    "    # 초기 진입 사이트 접속\n",
    "    driver.get('https://www.starbucks.co.kr/store/store_map.do?disp=locale')\n",
    "    time.sleep(1*10 + term_make(1, 5))\n",
    "\n",
    "    # 시도 선택\n",
    "    css_sel = f'div.loca_step1_cont > ul > li:nth-child({sido_idx}) > a'\n",
    "    si_do_a_tag = driver.find_element_by_css_selector(css_sel)\n",
    "    si_do_a_tag.click()\n",
    "    time.sleep(1*10 + term_make(1, 5))\n",
    "\n",
    "    if sido_idx<17:# 세종시 이전까지만 전체 클릭\n",
    "        # 전체 선택, 1번 맴버가 무조건 전체이다 -> 고정\n",
    "        css_sel = '#mCSB_2_container > ul > li:nth-child(1) > a'\n",
    "        driver.find_element_by_css_selector(css_sel).click()\n",
    "        # 로딩 속도에 따라 반응이 다르게 온다 => 보수적으로 10초 결정\n",
    "        time.sleep(1*10 + term_make(1, 5))\n",
    "\n",
    "    # soup(DOM Tree) 생성\n",
    "    src = driver.page_source  # 현재 페이지의 HTML 소스\n",
    "    soup = BeautifulSoup(src, 'html5lib')\n",
    "    # 정보추출\n",
    "    starbucks_store_local_infos = [{\n",
    "        'name': li.get('data-name'),  # 지점명, 속성값 추출 => 요소.get('속성이름')\n",
    "        'lat': float(li.get('data-lat')),   # 위도 -> float()\n",
    "        'long': float(li.get('data-long')),   # 경도 -> float()\n",
    "        'code': li.get('data-code'),  # 지점코드\n",
    "        'storecd': li.get('data-storecd'),                 # 관리코드(?)\n",
    "        'addr': li.p.text.strip()[:len('1522-3232')*-1],   # 전화번호가 모두 동일하다\n",
    "        # class는 속성값으로 뽑으면 리스트로 나온다(특징), pin_ 제거\n",
    "        'spec': li.i.get('class')[0][len('pin_'):]\n",
    "    } for li in soup.select('.quickSearchResultBoxSidoGugun > li')]\n",
    "\n",
    "    # starbucks_store_infos에 starbucks_store_local_infos값 하나하나를 맴버로 추가한다\n",
    "    starbucks_store_infos.extend(starbucks_store_local_infos)\n",
    "\n",
    "    # 샘플 1개만 작동잘되는지 체크\n",
    "    # if sido_idx == 1:\n",
    "    #     print( len(starbucks_store_infos) )\n",
    "    #     break\n",
    "\n",
    "# 브라우저 닫기\n",
    "driver.close()\n",
    "driver.quit()\n",
    "\n",
    "# csv에 저장\n",
    "# [{},{},..] => DataFrame => csv 저장\n",
    "# df 생성\n",
    "df = pd.DataFrame.from_dict(starbucks_store_infos)\n",
    "#df.to_csv('starbucks_store.csv', index=False)\n",
    "df.to_excel('starbucks_store_full.xlsx', index=False)\n",
    "\n",
    "# 파이썬 파일에서 사용\n",
    "sys.exit(0)"
   ]
  }
 ],
 "metadata": {
  "kernelspec": {
   "display_name": "Python 3 (ipykernel)",
   "language": "python",
   "name": "python3"
  },
  "language_info": {
   "codemirror_mode": {
    "name": "ipython",
    "version": 3
   },
   "file_extension": ".py",
   "mimetype": "text/x-python",
   "name": "python",
   "nbconvert_exporter": "python",
   "pygments_lexer": "ipython3",
   "version": "3.11.5"
  }
 },
 "nbformat": 4,
 "nbformat_minor": 5
}
