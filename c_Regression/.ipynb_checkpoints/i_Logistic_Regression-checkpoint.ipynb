{
 "cells": [
  {
   "cell_type": "markdown",
   "id": "18792ee6",
   "metadata": {},
   "source": [
    "### Logistic Regression (로지스틱 회귀)\n",
    "- 선형 회귀 방식을 분류에 적용한 알고리즘이다.\n",
    "- 선형 함수의 회귀 최적선을 찾는 것이 아니라 시그모이드(sigmoid) 함수의 최적선을 찾고 이 함수의 반환값을 확률로 간주하여 확률에 따라 분류를 결정한다.\n",
    "- 로지스틱 회귀는 다중 분류도 가능하지만, 주로 이진 분류에 활용되며, 예측 값이 예측 확률이다.\n",
    "- 독립변수를 input값으로 받아 종속변수가 1이 될 확률을 결과값으로 하는 sigmoid 함수를 찾는 과정이다.\n",
    "<img src=\"./images/sigmoid01.png\" width=\"400\" style=\"margin-left: 0\">  \n",
    "\n",
    "> 📌 시그모이드(sigmoid) 함수는 입력 값을 넣었을 때 1일 확률은 얼마인지 알아낼 수 있다.  \n",
    "> ##### 베이지안 추론을 통한 시그모이드 식 증명  \n",
    "> - B가 A<sub>1</sub> 조건에 속할 확률을 구한다.\n",
    "<img src=\"./images/sigmoid02.png\" width=\"250\" style=\"margin-top: -2px; margin-bottom:20px; margin-left: -20px\">  \n",
    "> - 각 분자와 분모를 분자로 나눠준다.\n",
    "> - 아래 로그의 성질을 이용해서 자연상수 e를 대입한다.\n",
    "<img src=\"./images/sigmoid03.png\" width=\"100\" style=\"margin-bottom:20px; margin-left: 0\">  \n",
    "> - A/B = e<sup>-log(B/A)</sup>\n",
    "> - 이를 통해 아래의 식이 나온다.\n",
    "<img src=\"./images/sigmoid04.png\" width=\"250\" style=\"margin-bottom:20px; margin-left: 0\">  \n",
    "> - likelihood ratio(우도): 어떤 현상이 있을 때 그 현상이 어떤 모집단에 속할 가능성을 의미한다.  \n",
    "> 예를 들어, '양성'판정을 받은 모집단이 있고, '암'이라는 현상이 있고, '암이 아님'이라는 현상이 있을 때 '암'이라는 현상일 때 '양성'이라는 모집단에 속할 가능성을 우도라고 한다.  \n",
    "암에 걸린 사람들을 대상으로 암 진단용 시약으로 검사를 했더니 99%가 양성일 경우 우도 99%이다.\n",
    "> - P(C<sub>1</sub>|x) : 조건부 확률\n",
    "> - P(x|C<sub>1</sub>) : 우도\n",
    "> - prior odds ratio: odds를 통해 특정 확률을 역으로 알 수 있다. 즉, 경기에서 지는 확률만 가지고 odds를 사용하여 역확률인 이기는 확률을 구할 수 있다는 의미이다. 두 가지 상황에서의 확률 중 한 가지 상황에서는 0 ~ 1사이가 나오지만, 반대 상황에서는 1 ~ 무한대가 나오므로 균형을 맞추고자 log를 씌워준다(이를 logit이라 부른다).   \n",
    "logit함수는 0에서 1까지의 확률값과 -∞에서 ∞ 사이의 확률값을 표현해주는 함수이며, 시그모이드의 역함수이다.  \n",
    "\n",
    "- 🚩 y의 범위는 [0, 1]이고, 특성값 x의 범위는 [-∞, ∞]이므로 관계를 말할 수 없지만, logit 변환은 [0, 1]의 범위를 가지는 확률을 [-∞, ∞]로 바꿔주기 때문에, 예측값(y)과 예측값을 만들어내는 특성값(x)의 관계를 선형 관계(y = wx+b)로 만들 수 있게 한다."
   ]
  },
  {
   "cell_type": "code",
   "execution_count": null,
   "id": "aa8ff808",
   "metadata": {},
   "outputs": [],
   "source": []
  }
 ],
 "metadata": {
  "kernelspec": {
   "display_name": "Python 3 (ipykernel)",
   "language": "python",
   "name": "python3"
  },
  "language_info": {
   "codemirror_mode": {
    "name": "ipython",
    "version": 3
   },
   "file_extension": ".py",
   "mimetype": "text/x-python",
   "name": "python",
   "nbconvert_exporter": "python",
   "pygments_lexer": "ipython3",
   "version": "3.11.5"
  }
 },
 "nbformat": 4,
 "nbformat_minor": 5
}
