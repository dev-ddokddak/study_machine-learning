{
 "cells": [
  {
   "cell_type": "markdown",
   "id": "f1cffb5b",
   "metadata": {},
   "source": [
    "### Decision Tree Regression (회귀 트리)\n",
    "- 결정 트리와 결정 트리 기반의 앙상블 알고리즘은 분류뿐만 아니라 회귀도 가능하다.\n",
    "- 분류와 유사하게 분할을 하며, 최종 분할 후 각 분할 영역에서 실제 데이터까지의 거리들의 평균 값으로 학습 및 예측을 수행한다.\n",
    "<img src=\"./images/decision_tree_regression01.png\" width=\"600\" style=\"margin: 10px; margin-left: 0\">\n",
    "- 회귀 트리 역시 복잡한 트리 구조를 가질 경우 과적합이 위험이 있고, 트리의 크기와 노드의 개수의 제한 등으로 개선할 수 있다.\n",
    "<img src=\"./images/decision_tree_regression02.png\" width=\"600\" style=\"margin:20px; margin-left: 0\">\n",
    "- 독립 변수들과 종속 변수 사이의 관계가 상당히 비선형적일 경우 사용하는 것이 좋다.\n",
    "<img src=\"./images/decision_tree_regression03.png\" width=\"800\" style=\"margin:20px; margin-left: 0\">\n",
    "- 🚩 하지만, 다른 회귀 모델보다 전체적인 성능은 떨어진다."
   ]
  }
 ],
 "metadata": {
  "kernelspec": {
   "display_name": "Python 3 (ipykernel)",
   "language": "python",
   "name": "python3"
  },
  "language_info": {
   "codemirror_mode": {
    "name": "ipython",
    "version": 3
   },
   "file_extension": ".py",
   "mimetype": "text/x-python",
   "name": "python",
   "nbconvert_exporter": "python",
   "pygments_lexer": "ipython3",
   "version": "3.11.5"
  }
 },
 "nbformat": 4,
 "nbformat_minor": 5
}
