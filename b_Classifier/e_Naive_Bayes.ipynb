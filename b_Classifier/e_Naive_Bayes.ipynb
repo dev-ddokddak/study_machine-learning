{
 "cells": [
  {
   "cell_type": "markdown",
   "id": "fd97302d",
   "metadata": {},
   "source": [
    "### 베이즈 추론, 베이즈 정리, 베이즈 추정(Bayesian Inference)\n",
    "- 역확률(inverse probability) 문제를 해결하기 위한 방법으로서, 조건부 확률(P(B|A))을 알고 있을 때 정반대인 조건부 확률(P(A|B))을 구하는 방법이다.\n",
    "> 📌조건부 확률(Conditional probability): 두 사건 A, B가 있을 때, 사건 A가 일어났을 때 B가 일어날 확률이다.\n",
    "<img src=\"./images/conditional_probability.png\" width=\"200\" style=\"margin-top:20px; margin-left:0\">\n",
    "- 추론 대상의 사전 확률과 추가적인 정보를 기반으로 해당 대상의 \"사후 확률\"을 추론하는 통계적 방법이다.  \n",
    "📌사후 확률이란, 어떤 사건이 발생한 후 앞으로 일어나게 될 다른 사건의 가능성을 구하는 것이다.\n",
    "- 어떤 사건이 서로 \"배반\"하는(독립하는) 원인 둘에 의해 일어난다고 하면, 실제 사건이 일어났을 때 이 사건이 두 원인 중 하나일 확률을 구하는 방식이다.  \n",
    "📌배반하는 원인이란, 하나의 사건이 일어난 원인의 확률이 다른 원인의 확률에 영향을 미치지 않고 각각 독립적이라는 뜻이다.\n",
    "- 어떤 상황에서 N개의 원인이 있을 때, 실제 사건이 발생하면 N개 중 한 가지 원인일 확률을 구하는 방법이다.\n",
    "- 기존 사건들의 확률을 알 수 없을 때 전혀 사용할 수 없는 방식이다.  \n",
    "하지만 그 간 데이터가 쌓이면서, 기존 사건들의 확률을 대략적으로 뽑아낼 수 있게 되었다.  \n",
    "이로 인해, 사회적 통계나 주식에서 베이즈 정리 활용이 필수로 꼽히고 있다.  \n",
    "\n",
    "> ##### 예시\n",
    "질병 A의 양성판정 정확도가 80%인 검사기가 있다. 검사를 시행해서 양성이 나왔다면, 이 사람이 80%의 확률로 병에 걸렸다고 이야기할 수 없다. 왜냐하면 검사기가 알려주는 확률과 양성일 경우 질병을 앓고 있을 확률은 조건부 확률의 의미에서 정반대이기 때문이다.  \n",
    "<table style=\"width:50%; margin-left: 50px\">\n",
    "    <tr>\n",
    "        <th>전제</th>\n",
    "        <th>관심 사건</th>\n",
    "        <th>확률</th>\n",
    "    </tr>\n",
    "    <tr>\n",
    "        <th>병을 앓고 있다</th>\n",
    "        <th>양성이다</th>\n",
    "        <th>80%</th>\n",
    "    </tr>\n",
    "    <tr>\n",
    "        <th>양성이다</th>\n",
    "        <th>병을 앓고 있다</th>\n",
    "        <th>알수 없음</th>\n",
    "    </tr>\n",
    "</table>  \n",
    "\n",
    "> 이런 식의 확률을 구해야 하는 문제를 역확률 문제라고 하고 이를 베이즈 추론을 활용하여 구할 수 있다.  \n",
    "단, 검사 대상인 질병의 유병률(사전 확률, 기존 사건들의 확률)을 알고 있어야 한다.  \n",
    "전세계 인구 중 10%의 사람들이 질병 A를 앓는다고 가정한다.\n",
    "<div style=\"width: 60%; display:flex; margin-top: -20px; margin-left:30px\">\n",
    "    <div>\n",
    "        <img src=\"./images/bayesian_inference01.png\" width=\"300\" style=\"margin-top:20px; margin-left:0\">\n",
    "    </div>\n",
    "    <div style=\"margin-top: 28px; margin-left: 20px\">\n",
    "        <img src=\"./images/bayesian_inference02.png\" width=\"310\" style=\"margin-top:20px; margin-left:0\">\n",
    "    </div>\n",
    "</div>  \n",
    "\n",
    "<div style=\"width: 60%; display:flex; margin-left:30px\">\n",
    "    <div>\n",
    "        <img src=\"./images/bayesian_inference03.png\" width=\"800\" style=\"margin-top:20px; margin-left:0\">\n",
    "    </div>\n",
    "    <div style=\"margin-top: 28px; margin-left: 20px\">\n",
    "        <img src=\"./images/bayesian_inference04.png\" width=\"550\" style=\"margin-top:-8px; margin-left:0\">\n",
    "    </div>\n",
    "</div>  \n",
    "\n",
    "> 🚩결과: 약 30.8%\n",
    "<img src=\"./images/bayesian_inference05.png\" width=\"200\" style=\"margin-top:20px; margin-left:0\">\n"
   ]
  },
  {
   "cell_type": "markdown",
   "id": "c538fbe1",
   "metadata": {},
   "source": [
    "### 나이브 베이즈 분류(Naive Bayes Classifier)\n",
    "- 텍스트 분류를 위해 전통적으로 사용되는 분류기로서, 분류에 있어서 준수한 성능을 보인다.\n",
    "- 베이즈 정리에 기반한 통계적 분류 기법으로서, 정확성도 높고 대용량 데이터에 대한 속도도 빠르다.\n",
    "- 반드시 모든 feature가 서로 독립(independent)적이어야 한다. 즉, 서로 영향을 미치지 않는 feature들로 구성되어야 한다.\n",
    "- 감정 분석, 스팸 메일 필터링, 텍스트 분류, 추천 시스템 등 여러 서비스에서 활용되는 분류 기법이다.\n",
    "- 빠르고 정확하고 간단한 분류 방법이지만, 실제 데이터에서 모든 feature가 독립적인 경우는 드물기 때문에 실생활에 적용하기 힘들다.\n",
    "<img src=\"./images/naive_bayes_classifier.png\" width=\"400\" style=\"margin-left: 0\">"
   ]
  },
  {
   "cell_type": "markdown",
   "id": "f52297c9",
   "metadata": {},
   "source": [
    "### 나이브 베이즈 종류\n",
    "##### BernoulliNB(베르누이 나이브 베이즈)  \n",
    "- 가장 기본적인 NB 함수로 이진 분류에 사용한다.\n",
    "##### CategoricalNB  \n",
    "- 분류할 카테고리의 종류가 3가지 이상일 때 사용한다.\n",
    "##### MultinomialNB (멀타이노우미얼(다항) 나이브 베이즈) \n",
    "- 텍스트의 등장 횟수처럼 이산적인 값의 수를 예측할 때 사용한다.\n",
    "##### GaussianNB (가우시안 나이브 베이즈) \n",
    "- 예측할 값이 연속적인 값인 경우에 사용한다.\n",
    "##### ComplementNB  \n",
    "- target label의 balance가 맞지 않는 불균형한 상황에 사용한다."
   ]
  },
  {
   "cell_type": "markdown",
   "id": "650efd6e",
   "metadata": {},
   "source": [
    "### 스팸 메일 분류"
   ]
  },
  {
   "cell_type": "code",
   "execution_count": 1,
   "id": "bd97b875",
   "metadata": {},
   "outputs": [
    {
     "data": {
      "text/html": [
       "<div>\n",
       "<style scoped>\n",
       "    .dataframe tbody tr th:only-of-type {\n",
       "        vertical-align: middle;\n",
       "    }\n",
       "\n",
       "    .dataframe tbody tr th {\n",
       "        vertical-align: top;\n",
       "    }\n",
       "\n",
       "    .dataframe thead th {\n",
       "        text-align: right;\n",
       "    }\n",
       "</style>\n",
       "<table border=\"1\" class=\"dataframe\">\n",
       "  <thead>\n",
       "    <tr style=\"text-align: right;\">\n",
       "      <th></th>\n",
       "      <th>Category</th>\n",
       "      <th>Message</th>\n",
       "    </tr>\n",
       "  </thead>\n",
       "  <tbody>\n",
       "    <tr>\n",
       "      <th>0</th>\n",
       "      <td>ham</td>\n",
       "      <td>Go until jurong point, crazy.. Available only ...</td>\n",
       "    </tr>\n",
       "    <tr>\n",
       "      <th>1</th>\n",
       "      <td>ham</td>\n",
       "      <td>Ok lar... Joking wif u oni...</td>\n",
       "    </tr>\n",
       "    <tr>\n",
       "      <th>2</th>\n",
       "      <td>spam</td>\n",
       "      <td>Free entry in 2 a wkly comp to win FA Cup fina...</td>\n",
       "    </tr>\n",
       "    <tr>\n",
       "      <th>3</th>\n",
       "      <td>ham</td>\n",
       "      <td>U dun say so early hor... U c already then say...</td>\n",
       "    </tr>\n",
       "    <tr>\n",
       "      <th>4</th>\n",
       "      <td>ham</td>\n",
       "      <td>Nah I don't think he goes to usf, he lives aro...</td>\n",
       "    </tr>\n",
       "    <tr>\n",
       "      <th>...</th>\n",
       "      <td>...</td>\n",
       "      <td>...</td>\n",
       "    </tr>\n",
       "    <tr>\n",
       "      <th>5567</th>\n",
       "      <td>spam</td>\n",
       "      <td>This is the 2nd time we have tried 2 contact u...</td>\n",
       "    </tr>\n",
       "    <tr>\n",
       "      <th>5568</th>\n",
       "      <td>ham</td>\n",
       "      <td>Will ü b going to esplanade fr home?</td>\n",
       "    </tr>\n",
       "    <tr>\n",
       "      <th>5569</th>\n",
       "      <td>ham</td>\n",
       "      <td>Pity, * was in mood for that. So...any other s...</td>\n",
       "    </tr>\n",
       "    <tr>\n",
       "      <th>5570</th>\n",
       "      <td>ham</td>\n",
       "      <td>The guy did some bitching but I acted like i'd...</td>\n",
       "    </tr>\n",
       "    <tr>\n",
       "      <th>5571</th>\n",
       "      <td>ham</td>\n",
       "      <td>Rofl. Its true to its name</td>\n",
       "    </tr>\n",
       "  </tbody>\n",
       "</table>\n",
       "<p>5572 rows × 2 columns</p>\n",
       "</div>"
      ],
      "text/plain": [
       "     Category                                            Message\n",
       "0         ham  Go until jurong point, crazy.. Available only ...\n",
       "1         ham                      Ok lar... Joking wif u oni...\n",
       "2        spam  Free entry in 2 a wkly comp to win FA Cup fina...\n",
       "3         ham  U dun say so early hor... U c already then say...\n",
       "4         ham  Nah I don't think he goes to usf, he lives aro...\n",
       "...       ...                                                ...\n",
       "5567     spam  This is the 2nd time we have tried 2 contact u...\n",
       "5568      ham               Will ü b going to esplanade fr home?\n",
       "5569      ham  Pity, * was in mood for that. So...any other s...\n",
       "5570      ham  The guy did some bitching but I acted like i'd...\n",
       "5571      ham                         Rofl. Its true to its name\n",
       "\n",
       "[5572 rows x 2 columns]"
      ]
     },
     "execution_count": 1,
     "metadata": {},
     "output_type": "execute_result"
    }
   ],
   "source": [
    "import pandas as pd\n",
    "\n",
    "mail_df = pd.read_csv('./datasets/spam.csv')\n",
    "mail_df"
   ]
  },
  {
   "cell_type": "code",
   "execution_count": 2,
   "id": "37a74b1a",
   "metadata": {},
   "outputs": [
    {
     "name": "stdout",
     "output_type": "stream",
     "text": [
      "<class 'pandas.core.frame.DataFrame'>\n",
      "RangeIndex: 5572 entries, 0 to 5571\n",
      "Data columns (total 2 columns):\n",
      " #   Column    Non-Null Count  Dtype \n",
      "---  ------    --------------  ----- \n",
      " 0   Category  5572 non-null   object\n",
      " 1   Message   5572 non-null   object\n",
      "dtypes: object(2)\n",
      "memory usage: 87.2+ KB\n"
     ]
    }
   ],
   "source": [
    "mail_df.info()"
   ]
  },
  {
   "cell_type": "markdown",
   "id": "fc6d6808",
   "metadata": {},
   "source": [
    "### 레이블 인코딩"
   ]
  },
  {
   "cell_type": "code",
   "execution_count": 3,
   "id": "16af449b",
   "metadata": {},
   "outputs": [],
   "source": [
    "from sklearn.preprocessing import LabelEncoder\n",
    "\n",
    "mail_encoder = LabelEncoder()\n",
    "targets = mail_encoder.fit_transform(mail_df.Category)\n",
    "mail_df['Category'] = targets"
   ]
  },
  {
   "cell_type": "code",
   "execution_count": 4,
   "id": "4a45cdf8",
   "metadata": {},
   "outputs": [
    {
     "data": {
      "text/plain": [
       "array(['ham', 'spam'], dtype=object)"
      ]
     },
     "execution_count": 4,
     "metadata": {},
     "output_type": "execute_result"
    }
   ],
   "source": [
    "mail_encoder.classes_"
   ]
  },
  {
   "cell_type": "code",
   "execution_count": 6,
   "id": "e26ec977",
   "metadata": {},
   "outputs": [
    {
     "name": "stdout",
     "output_type": "stream",
     "text": [
      "[[2 0 0 1 0 1 0]\n",
      " [2 0 1 0 1 0 1]\n",
      " [0 1 1 0 0 0 0]]\n",
      "{'햄버거는': 5, '맛있어': 0, '정말': 3, '아니야': 2, '피자가': 4, '햄버거보다': 6, '먹자': 1}\n"
     ]
    }
   ],
   "source": [
    "from sklearn.feature_extraction.text import CountVectorizer\n",
    "\n",
    "text = [\"햄버거는 맛있어! 정말 맛있어\", \n",
    "        \"아니야 피자가 더 맛있어 햄버거보다 더 맛있어!\",\n",
    "        \"아니야 둘 다 먹자!\"]\n",
    "        \n",
    "count_vec = CountVectorizer()\n",
    "m = count_vec.fit_transform(text)\n",
    "print(m.toarray())\n",
    "\n",
    "# 각 열번호가 뜻하는 단어\n",
    "print(count_vec.vocabulary_)"
   ]
  },
  {
   "cell_type": "code",
   "execution_count": 7,
   "id": "b6e67f67",
   "metadata": {},
   "outputs": [],
   "source": [
    "from sklearn.model_selection import train_test_split\n",
    "X_train, X_test, y_train, y_test = train_test_split(mail_df.Message, mail_df.Category, test_size=0.3, stratify=mail_df.Category)"
   ]
  },
  {
   "cell_type": "code",
   "execution_count": 8,
   "id": "4d89e78f",
   "metadata": {},
   "outputs": [
    {
     "data": {
      "text/html": [
       "<style>#sk-container-id-1 {color: black;}#sk-container-id-1 pre{padding: 0;}#sk-container-id-1 div.sk-toggleable {background-color: white;}#sk-container-id-1 label.sk-toggleable__label {cursor: pointer;display: block;width: 100%;margin-bottom: 0;padding: 0.3em;box-sizing: border-box;text-align: center;}#sk-container-id-1 label.sk-toggleable__label-arrow:before {content: \"▸\";float: left;margin-right: 0.25em;color: #696969;}#sk-container-id-1 label.sk-toggleable__label-arrow:hover:before {color: black;}#sk-container-id-1 div.sk-estimator:hover label.sk-toggleable__label-arrow:before {color: black;}#sk-container-id-1 div.sk-toggleable__content {max-height: 0;max-width: 0;overflow: hidden;text-align: left;background-color: #f0f8ff;}#sk-container-id-1 div.sk-toggleable__content pre {margin: 0.2em;color: black;border-radius: 0.25em;background-color: #f0f8ff;}#sk-container-id-1 input.sk-toggleable__control:checked~div.sk-toggleable__content {max-height: 200px;max-width: 100%;overflow: auto;}#sk-container-id-1 input.sk-toggleable__control:checked~label.sk-toggleable__label-arrow:before {content: \"▾\";}#sk-container-id-1 div.sk-estimator input.sk-toggleable__control:checked~label.sk-toggleable__label {background-color: #d4ebff;}#sk-container-id-1 div.sk-label input.sk-toggleable__control:checked~label.sk-toggleable__label {background-color: #d4ebff;}#sk-container-id-1 input.sk-hidden--visually {border: 0;clip: rect(1px 1px 1px 1px);clip: rect(1px, 1px, 1px, 1px);height: 1px;margin: -1px;overflow: hidden;padding: 0;position: absolute;width: 1px;}#sk-container-id-1 div.sk-estimator {font-family: monospace;background-color: #f0f8ff;border: 1px dotted black;border-radius: 0.25em;box-sizing: border-box;margin-bottom: 0.5em;}#sk-container-id-1 div.sk-estimator:hover {background-color: #d4ebff;}#sk-container-id-1 div.sk-parallel-item::after {content: \"\";width: 100%;border-bottom: 1px solid gray;flex-grow: 1;}#sk-container-id-1 div.sk-label:hover label.sk-toggleable__label {background-color: #d4ebff;}#sk-container-id-1 div.sk-serial::before {content: \"\";position: absolute;border-left: 1px solid gray;box-sizing: border-box;top: 0;bottom: 0;left: 50%;z-index: 0;}#sk-container-id-1 div.sk-serial {display: flex;flex-direction: column;align-items: center;background-color: white;padding-right: 0.2em;padding-left: 0.2em;position: relative;}#sk-container-id-1 div.sk-item {position: relative;z-index: 1;}#sk-container-id-1 div.sk-parallel {display: flex;align-items: stretch;justify-content: center;background-color: white;position: relative;}#sk-container-id-1 div.sk-item::before, #sk-container-id-1 div.sk-parallel-item::before {content: \"\";position: absolute;border-left: 1px solid gray;box-sizing: border-box;top: 0;bottom: 0;left: 50%;z-index: -1;}#sk-container-id-1 div.sk-parallel-item {display: flex;flex-direction: column;z-index: 1;position: relative;background-color: white;}#sk-container-id-1 div.sk-parallel-item:first-child::after {align-self: flex-end;width: 50%;}#sk-container-id-1 div.sk-parallel-item:last-child::after {align-self: flex-start;width: 50%;}#sk-container-id-1 div.sk-parallel-item:only-child::after {width: 0;}#sk-container-id-1 div.sk-dashed-wrapped {border: 1px dashed gray;margin: 0 0.4em 0.5em 0.4em;box-sizing: border-box;padding-bottom: 0.4em;background-color: white;}#sk-container-id-1 div.sk-label label {font-family: monospace;font-weight: bold;display: inline-block;line-height: 1.2em;}#sk-container-id-1 div.sk-label-container {text-align: center;}#sk-container-id-1 div.sk-container {/* jupyter's `normalize.less` sets `[hidden] { display: none; }` but bootstrap.min.css set `[hidden] { display: none !important; }` so we also need the `!important` here to be able to override the default hidden behavior on the sphinx rendered scikit-learn.org. See: https://github.com/scikit-learn/scikit-learn/issues/21755 */display: inline-block !important;position: relative;}#sk-container-id-1 div.sk-text-repr-fallback {display: none;}</style><div id=\"sk-container-id-1\" class=\"sk-top-container\"><div class=\"sk-text-repr-fallback\"><pre>Pipeline(steps=[(&#x27;count_vectorizer&#x27;, CountVectorizer()),\n",
       "                (&#x27;naive_bayes&#x27;, MultinomialNB())])</pre><b>In a Jupyter environment, please rerun this cell to show the HTML representation or trust the notebook. <br />On GitHub, the HTML representation is unable to render, please try loading this page with nbviewer.org.</b></div><div class=\"sk-container\" hidden><div class=\"sk-item sk-dashed-wrapped\"><div class=\"sk-label-container\"><div class=\"sk-label sk-toggleable\"><input class=\"sk-toggleable__control sk-hidden--visually\" id=\"sk-estimator-id-1\" type=\"checkbox\" ><label for=\"sk-estimator-id-1\" class=\"sk-toggleable__label sk-toggleable__label-arrow\">Pipeline</label><div class=\"sk-toggleable__content\"><pre>Pipeline(steps=[(&#x27;count_vectorizer&#x27;, CountVectorizer()),\n",
       "                (&#x27;naive_bayes&#x27;, MultinomialNB())])</pre></div></div></div><div class=\"sk-serial\"><div class=\"sk-item\"><div class=\"sk-estimator sk-toggleable\"><input class=\"sk-toggleable__control sk-hidden--visually\" id=\"sk-estimator-id-2\" type=\"checkbox\" ><label for=\"sk-estimator-id-2\" class=\"sk-toggleable__label sk-toggleable__label-arrow\">CountVectorizer</label><div class=\"sk-toggleable__content\"><pre>CountVectorizer()</pre></div></div></div><div class=\"sk-item\"><div class=\"sk-estimator sk-toggleable\"><input class=\"sk-toggleable__control sk-hidden--visually\" id=\"sk-estimator-id-3\" type=\"checkbox\" ><label for=\"sk-estimator-id-3\" class=\"sk-toggleable__label sk-toggleable__label-arrow\">MultinomialNB</label><div class=\"sk-toggleable__content\"><pre>MultinomialNB()</pre></div></div></div></div></div></div></div>"
      ],
      "text/plain": [
       "Pipeline(steps=[('count_vectorizer', CountVectorizer()),\n",
       "                ('naive_bayes', MultinomialNB())])"
      ]
     },
     "execution_count": 8,
     "metadata": {},
     "output_type": "execute_result"
    }
   ],
   "source": [
    "from sklearn.naive_bayes import MultinomialNB\n",
    "from sklearn.pipeline import Pipeline\n",
    "\n",
    "navie_bayes_pipeline = Pipeline([('count_vectorizer', CountVectorizer()), ('naive_bayes', MultinomialNB())])\n",
    "navie_bayes_pipeline.fit(X_train, y_train)"
   ]
  },
  {
   "cell_type": "code",
   "execution_count": 99,
   "id": "5ab78225",
   "metadata": {},
   "outputs": [
    {
     "name": "stdout",
     "output_type": "stream",
     "text": [
      "예측 결과: 1\n",
      "실제 정답: 1\n"
     ]
    }
   ],
   "source": [
    "prediction = navie_bayes_pipeline.predict(X_test)\n",
    "\n",
    "# 스팸 메일로 판단한 이메일을 정렬을 통해 인덱스 가져오기\n",
    "prediction[prediction == 1].argsort()\n",
    "# 해당 인덱스의 예측 결과가 1(스팸)인지 검사\n",
    "print(f'예측 결과: {prediction[216]}')\n",
    "\n",
    "# feature에서 동일한 인덱스의 메세지 내용을 가져오기\n",
    "# 실제 정답이 1(스팸)인지 검사\n",
    "print('실제 정답: {}'.format(mail_df[mail_df['Message'] == X_test.to_list()[216]].Category.to_list()[0]))"
   ]
  },
  {
   "cell_type": "code",
   "execution_count": 100,
   "id": "6e2c6513",
   "metadata": {},
   "outputs": [
    {
     "data": {
      "text/plain": [
       "0.9898325358851675"
      ]
     },
     "execution_count": 100,
     "metadata": {},
     "output_type": "execute_result"
    }
   ],
   "source": [
    "navie_bayes_pipeline.score(X_test, y_test)"
   ]
  },
  {
   "cell_type": "code",
   "execution_count": 101,
   "id": "7ccb0378",
   "metadata": {},
   "outputs": [
    {
     "data": {
      "text/plain": [
       "0.9898325358851675"
      ]
     },
     "execution_count": 101,
     "metadata": {},
     "output_type": "execute_result"
    }
   ],
   "source": [
    "from sklearn.metrics import accuracy_score\n",
    "\n",
    "accuracy_score(y_test, prediction)"
   ]
  },
  {
   "cell_type": "code",
   "execution_count": 109,
   "id": "f0b0becb",
   "metadata": {},
   "outputs": [],
   "source": [
    "from sklearn.metrics import accuracy_score, precision_score , recall_score , confusion_matrix, ConfusionMatrixDisplay, f1_score, roc_auc_score\n",
    "import matplotlib.pyplot as plt\n",
    "# 타겟 데이터와 예측 객체를 전달받는다.\n",
    "def get_evaluation(y_test, prediction, classifier=None, X_test=None):\n",
    "#     오차 행렬\n",
    "    confusion = confusion_matrix(y_test, prediction)\n",
    "#     정확도\n",
    "    accuracy = accuracy_score(y_test , prediction)\n",
    "#     정밀도\n",
    "    precision = precision_score(y_test , prediction)\n",
    "#     재현율\n",
    "    recall = recall_score(y_test , prediction)\n",
    "#     F1 score\n",
    "    f1 = f1_score(y_test, prediction)\n",
    "#     ROC-AUC\n",
    "    roc_auc = roc_auc_score(y_test, prediction)\n",
    "\n",
    "    print('오차 행렬')\n",
    "    print(confusion)\n",
    "    print('정확도: {0:.4f}, 정밀도: {1:.4f}, 재현율: {2:.4f}, F1:{3:.4f}, AUC:{4:.4f}'.format(accuracy , precision ,recall, f1, roc_auc))\n",
    "    print(\"#\" * 75)\n",
    "    \n",
    "    if classifier is not None and  X_test is not None:\n",
    "        fig, axes = plt.subplots(nrows=1, ncols=2, figsize=(8,4))\n",
    "        titles_options = [(\"Confusion matrix\", None), (\"Normalized confusion matrix\", \"true\")]\n",
    "\n",
    "        for (title, normalize), ax in zip(titles_options, axes.flatten()):\n",
    "            disp = ConfusionMatrixDisplay.from_estimator(classifier, X_test, y_test, ax=ax, cmap=plt.cm.Blues, normalize=normalize)\n",
    "            disp.ax_.set_title(title)\n",
    "        plt.show()"
   ]
  },
  {
   "cell_type": "code",
   "execution_count": 110,
   "id": "d6e7d366",
   "metadata": {},
   "outputs": [
    {
     "name": "stdout",
     "output_type": "stream",
     "text": [
      "오차 행렬\n",
      "[[1443    5]\n",
      " [  12  212]]\n",
      "정확도: 0.9898, 정밀도: 0.9770, 재현율: 0.9464, F1:0.9615, AUC:0.9715\n",
      "###########################################################################\n"
     ]
    },
    {
     "data": {
      "image/png": "[encoded data removed]",
      "text/plain": [
       "<Figure size 800x400 with 4 Axes>"
      ]
     },
     "metadata": {},
     "output_type": "display_data"
    }
   ],
   "source": [
    "get_evaluation(y_test, prediction, navie_bayes_pipeline, X_test)"
   ]
  },
  {
   "cell_type": "code",
   "execution_count": null,
   "id": "d56a244d",
   "metadata": {},
   "outputs": [],
   "source": []
  }
 ],
 "metadata": {
  "kernelspec": {
   "display_name": "Python 3 (ipykernel)",
   "language": "python",
   "name": "python3"
  },
  "language_info": {
   "codemirror_mode": {
    "name": "ipython",
    "version": 3
   },
   "file_extension": ".py",
   "mimetype": "text/x-python",
   "name": "python",
   "nbconvert_exporter": "python",
   "pygments_lexer": "ipython3",
   "version": "3.11.5"
  }
 },
 "nbformat": 4,
 "nbformat_minor": 5
}
