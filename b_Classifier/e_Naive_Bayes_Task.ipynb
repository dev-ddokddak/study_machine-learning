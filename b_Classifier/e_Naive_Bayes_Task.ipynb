{
 "cells": [
  {
   "cell_type": "markdown",
   "id": "e4fc0296",
   "metadata": {},
   "source": [
    "### Naive Bayes Classifier Task\n",
    "### 문장에서 느껴지는 감정 예측\n",
    "##### 다중 분류(Multiclass Classification)\n",
    "- 비대면 심리 상담사로서 메세지를 전달한 환자에 대한 감정 데이터를 수집했다.\n",
    "- 각 메세지 별로 감정이 표시되어 있다.\n",
    "- 미래에 동일한 메세지를 보내는 환자에게 어떤 심리 치료가 적합할 수 있는지 알아보기 위한 모델을 구축한다.\n",
    "\n",
    "##### 🚩제시된 feature의 target을 예측해보자!\n",
    "- 'Sweat deer'  \n",
    "- 'The moment I saw her, I realized something was wrong.'"
   ]
  },
  {
   "cell_type": "code",
   "execution_count": 21,
   "id": "ae086ed8",
   "metadata": {},
   "outputs": [
    {
     "data": {
      "text/html": [
       "<div>\n",
       "<style scoped>\n",
       "    .dataframe tbody tr th:only-of-type {\n",
       "        vertical-align: middle;\n",
       "    }\n",
       "\n",
       "    .dataframe tbody tr th {\n",
       "        vertical-align: top;\n",
       "    }\n",
       "\n",
       "    .dataframe thead th {\n",
       "        text-align: right;\n",
       "    }\n",
       "</style>\n",
       "<table border=\"1\" class=\"dataframe\">\n",
       "  <thead>\n",
       "    <tr style=\"text-align: right;\">\n",
       "      <th></th>\n",
       "      <th>message</th>\n",
       "      <th>feeling</th>\n",
       "    </tr>\n",
       "  </thead>\n",
       "  <tbody>\n",
       "    <tr>\n",
       "      <th>0</th>\n",
       "      <td>im feeling quite sad and sorry for myself but ...</td>\n",
       "      <td>sadness</td>\n",
       "    </tr>\n",
       "    <tr>\n",
       "      <th>1</th>\n",
       "      <td>i feel like i am still looking at a blank canv...</td>\n",
       "      <td>sadness</td>\n",
       "    </tr>\n",
       "    <tr>\n",
       "      <th>2</th>\n",
       "      <td>i feel like a faithful servant</td>\n",
       "      <td>love</td>\n",
       "    </tr>\n",
       "    <tr>\n",
       "      <th>3</th>\n",
       "      <td>i am just feeling cranky and blue</td>\n",
       "      <td>anger</td>\n",
       "    </tr>\n",
       "    <tr>\n",
       "      <th>4</th>\n",
       "      <td>i can have for a treat or if i am feeling festive</td>\n",
       "      <td>joy</td>\n",
       "    </tr>\n",
       "    <tr>\n",
       "      <th>...</th>\n",
       "      <td>...</td>\n",
       "      <td>...</td>\n",
       "    </tr>\n",
       "    <tr>\n",
       "      <th>17995</th>\n",
       "      <td>i just had a very brief time in the beanbag an...</td>\n",
       "      <td>sadness</td>\n",
       "    </tr>\n",
       "    <tr>\n",
       "      <th>17996</th>\n",
       "      <td>i am now turning and i feel pathetic that i am...</td>\n",
       "      <td>sadness</td>\n",
       "    </tr>\n",
       "    <tr>\n",
       "      <th>17997</th>\n",
       "      <td>i feel strong and good overall</td>\n",
       "      <td>joy</td>\n",
       "    </tr>\n",
       "    <tr>\n",
       "      <th>17998</th>\n",
       "      <td>i feel like this was such a rude comment and i...</td>\n",
       "      <td>anger</td>\n",
       "    </tr>\n",
       "    <tr>\n",
       "      <th>17999</th>\n",
       "      <td>i know a lot but i feel so stupid because i ca...</td>\n",
       "      <td>sadness</td>\n",
       "    </tr>\n",
       "  </tbody>\n",
       "</table>\n",
       "<p>18000 rows × 2 columns</p>\n",
       "</div>"
      ],
      "text/plain": [
       "                                                 message  feeling\n",
       "0      im feeling quite sad and sorry for myself but ...  sadness\n",
       "1      i feel like i am still looking at a blank canv...  sadness\n",
       "2                         i feel like a faithful servant     love\n",
       "3                      i am just feeling cranky and blue    anger\n",
       "4      i can have for a treat or if i am feeling festive      joy\n",
       "...                                                  ...      ...\n",
       "17995  i just had a very brief time in the beanbag an...  sadness\n",
       "17996  i am now turning and i feel pathetic that i am...  sadness\n",
       "17997                     i feel strong and good overall      joy\n",
       "17998  i feel like this was such a rude comment and i...    anger\n",
       "17999  i know a lot but i feel so stupid because i ca...  sadness\n",
       "\n",
       "[18000 rows x 2 columns]"
      ]
     },
     "execution_count": 21,
     "metadata": {},
     "output_type": "execute_result"
    }
   ],
   "source": [
    "import pandas as pd\n",
    "\n",
    "feeling_df = pd.read_csv('./datasets/feeling.csv', sep=\";\")\n",
    "feeling_df"
   ]
  },
  {
   "cell_type": "markdown",
   "id": "ea8507e3",
   "metadata": {},
   "source": [
    "##### 레이블 인코딩"
   ]
  },
  {
   "cell_type": "code",
   "execution_count": 22,
   "id": "0c419989",
   "metadata": {},
   "outputs": [],
   "source": [
    "from sklearn.preprocessing import LabelEncoder\n",
    "\n",
    "feeling_encoder = LabelEncoder()\n",
    "feeling_df['target'] = feeling_encoder.fit_transform(feeling_df.feeling)"
   ]
  },
  {
   "cell_type": "code",
   "execution_count": 23,
   "id": "21b27325",
   "metadata": {},
   "outputs": [
    {
     "name": "stdout",
     "output_type": "stream",
     "text": [
      "['anger' 'fear' 'joy' 'love' 'sadness' 'surprise']\n"
     ]
    },
    {
     "data": {
      "text/html": [
       "<div>\n",
       "<style scoped>\n",
       "    .dataframe tbody tr th:only-of-type {\n",
       "        vertical-align: middle;\n",
       "    }\n",
       "\n",
       "    .dataframe tbody tr th {\n",
       "        vertical-align: top;\n",
       "    }\n",
       "\n",
       "    .dataframe thead th {\n",
       "        text-align: right;\n",
       "    }\n",
       "</style>\n",
       "<table border=\"1\" class=\"dataframe\">\n",
       "  <thead>\n",
       "    <tr style=\"text-align: right;\">\n",
       "      <th></th>\n",
       "      <th>message</th>\n",
       "      <th>feeling</th>\n",
       "      <th>target</th>\n",
       "    </tr>\n",
       "  </thead>\n",
       "  <tbody>\n",
       "    <tr>\n",
       "      <th>0</th>\n",
       "      <td>im feeling quite sad and sorry for myself but ...</td>\n",
       "      <td>sadness</td>\n",
       "      <td>4</td>\n",
       "    </tr>\n",
       "    <tr>\n",
       "      <th>1</th>\n",
       "      <td>i feel like i am still looking at a blank canv...</td>\n",
       "      <td>sadness</td>\n",
       "      <td>4</td>\n",
       "    </tr>\n",
       "    <tr>\n",
       "      <th>2</th>\n",
       "      <td>i feel like a faithful servant</td>\n",
       "      <td>love</td>\n",
       "      <td>3</td>\n",
       "    </tr>\n",
       "    <tr>\n",
       "      <th>3</th>\n",
       "      <td>i am just feeling cranky and blue</td>\n",
       "      <td>anger</td>\n",
       "      <td>0</td>\n",
       "    </tr>\n",
       "    <tr>\n",
       "      <th>4</th>\n",
       "      <td>i can have for a treat or if i am feeling festive</td>\n",
       "      <td>joy</td>\n",
       "      <td>2</td>\n",
       "    </tr>\n",
       "    <tr>\n",
       "      <th>...</th>\n",
       "      <td>...</td>\n",
       "      <td>...</td>\n",
       "      <td>...</td>\n",
       "    </tr>\n",
       "    <tr>\n",
       "      <th>17995</th>\n",
       "      <td>i just had a very brief time in the beanbag an...</td>\n",
       "      <td>sadness</td>\n",
       "      <td>4</td>\n",
       "    </tr>\n",
       "    <tr>\n",
       "      <th>17996</th>\n",
       "      <td>i am now turning and i feel pathetic that i am...</td>\n",
       "      <td>sadness</td>\n",
       "      <td>4</td>\n",
       "    </tr>\n",
       "    <tr>\n",
       "      <th>17997</th>\n",
       "      <td>i feel strong and good overall</td>\n",
       "      <td>joy</td>\n",
       "      <td>2</td>\n",
       "    </tr>\n",
       "    <tr>\n",
       "      <th>17998</th>\n",
       "      <td>i feel like this was such a rude comment and i...</td>\n",
       "      <td>anger</td>\n",
       "      <td>0</td>\n",
       "    </tr>\n",
       "    <tr>\n",
       "      <th>17999</th>\n",
       "      <td>i know a lot but i feel so stupid because i ca...</td>\n",
       "      <td>sadness</td>\n",
       "      <td>4</td>\n",
       "    </tr>\n",
       "  </tbody>\n",
       "</table>\n",
       "<p>18000 rows × 3 columns</p>\n",
       "</div>"
      ],
      "text/plain": [
       "                                                 message  feeling  target\n",
       "0      im feeling quite sad and sorry for myself but ...  sadness       4\n",
       "1      i feel like i am still looking at a blank canv...  sadness       4\n",
       "2                         i feel like a faithful servant     love       3\n",
       "3                      i am just feeling cranky and blue    anger       0\n",
       "4      i can have for a treat or if i am feeling festive      joy       2\n",
       "...                                                  ...      ...     ...\n",
       "17995  i just had a very brief time in the beanbag an...  sadness       4\n",
       "17996  i am now turning and i feel pathetic that i am...  sadness       4\n",
       "17997                     i feel strong and good overall      joy       2\n",
       "17998  i feel like this was such a rude comment and i...    anger       0\n",
       "17999  i know a lot but i feel so stupid because i ca...  sadness       4\n",
       "\n",
       "[18000 rows x 3 columns]"
      ]
     },
     "execution_count": 23,
     "metadata": {},
     "output_type": "execute_result"
    }
   ],
   "source": [
    "print(feeling_encoder.classes_)\n",
    "feeling_df"
   ]
  },
  {
   "cell_type": "markdown",
   "id": "e8e8bc64",
   "metadata": {},
   "source": [
    "##### 타겟 데이터 불균형 해소"
   ]
  },
  {
   "cell_type": "code",
   "execution_count": 24,
   "id": "815b39bb",
   "metadata": {},
   "outputs": [],
   "source": [
    "feeling_df.target.value_counts()\n",
    "\n",
    "# ['anger' 'fear' 'joy' 'love' 'sadness' 'surprise']\n",
    "anger = feeling_df[feeling_df.target == 0].sample(653)\n",
    "fear = feeling_df[feeling_df.target == 1].sample(653)\n",
    "joy = feeling_df[feeling_df.target == 2].sample(653)\n",
    "love = feeling_df[feeling_df.target == 3].sample(653)\n",
    "sadness = feeling_df[feeling_df.target == 4].sample(653)\n",
    "surprise = feeling_df[feeling_df.target == 5]\n",
    "\n",
    "feeling_df = pd.concat([anger, fear, joy, love, sadness, surprise])"
   ]
  },
  {
   "cell_type": "code",
   "execution_count": 25,
   "id": "f332ec93",
   "metadata": {},
   "outputs": [
    {
     "data": {
      "text/plain": [
       "target\n",
       "0    653\n",
       "1    653\n",
       "2    653\n",
       "3    653\n",
       "4    653\n",
       "5    653\n",
       "Name: count, dtype: int64"
      ]
     },
     "execution_count": 25,
     "metadata": {},
     "output_type": "execute_result"
    }
   ],
   "source": [
    "feeling_df.target.value_counts()"
   ]
  },
  {
   "cell_type": "code",
   "execution_count": 26,
   "id": "b1eaf0ec",
   "metadata": {},
   "outputs": [],
   "source": [
    "from sklearn.model_selection import train_test_split\n",
    "\n",
    "features, targets = feeling_df.message, feeling_df.target\n",
    "\n",
    "X_train, X_test, y_train, y_test = train_test_split(features, targets, stratify=targets, test_size=0.2)"
   ]
  },
  {
   "cell_type": "code",
   "execution_count": 28,
   "id": "1f825e81",
   "metadata": {},
   "outputs": [
    {
     "data": {
      "text/html": [
       "<style>#sk-container-id-1 {color: black;}#sk-container-id-1 pre{padding: 0;}#sk-container-id-1 div.sk-toggleable {background-color: white;}#sk-container-id-1 label.sk-toggleable__label {cursor: pointer;display: block;width: 100%;margin-bottom: 0;padding: 0.3em;box-sizing: border-box;text-align: center;}#sk-container-id-1 label.sk-toggleable__label-arrow:before {content: \"▸\";float: left;margin-right: 0.25em;color: #696969;}#sk-container-id-1 label.sk-toggleable__label-arrow:hover:before {color: black;}#sk-container-id-1 div.sk-estimator:hover label.sk-toggleable__label-arrow:before {color: black;}#sk-container-id-1 div.sk-toggleable__content {max-height: 0;max-width: 0;overflow: hidden;text-align: left;background-color: #f0f8ff;}#sk-container-id-1 div.sk-toggleable__content pre {margin: 0.2em;color: black;border-radius: 0.25em;background-color: #f0f8ff;}#sk-container-id-1 input.sk-toggleable__control:checked~div.sk-toggleable__content {max-height: 200px;max-width: 100%;overflow: auto;}#sk-container-id-1 input.sk-toggleable__control:checked~label.sk-toggleable__label-arrow:before {content: \"▾\";}#sk-container-id-1 div.sk-estimator input.sk-toggleable__control:checked~label.sk-toggleable__label {background-color: #d4ebff;}#sk-container-id-1 div.sk-label input.sk-toggleable__control:checked~label.sk-toggleable__label {background-color: #d4ebff;}#sk-container-id-1 input.sk-hidden--visually {border: 0;clip: rect(1px 1px 1px 1px);clip: rect(1px, 1px, 1px, 1px);height: 1px;margin: -1px;overflow: hidden;padding: 0;position: absolute;width: 1px;}#sk-container-id-1 div.sk-estimator {font-family: monospace;background-color: #f0f8ff;border: 1px dotted black;border-radius: 0.25em;box-sizing: border-box;margin-bottom: 0.5em;}#sk-container-id-1 div.sk-estimator:hover {background-color: #d4ebff;}#sk-container-id-1 div.sk-parallel-item::after {content: \"\";width: 100%;border-bottom: 1px solid gray;flex-grow: 1;}#sk-container-id-1 div.sk-label:hover label.sk-toggleable__label {background-color: #d4ebff;}#sk-container-id-1 div.sk-serial::before {content: \"\";position: absolute;border-left: 1px solid gray;box-sizing: border-box;top: 0;bottom: 0;left: 50%;z-index: 0;}#sk-container-id-1 div.sk-serial {display: flex;flex-direction: column;align-items: center;background-color: white;padding-right: 0.2em;padding-left: 0.2em;position: relative;}#sk-container-id-1 div.sk-item {position: relative;z-index: 1;}#sk-container-id-1 div.sk-parallel {display: flex;align-items: stretch;justify-content: center;background-color: white;position: relative;}#sk-container-id-1 div.sk-item::before, #sk-container-id-1 div.sk-parallel-item::before {content: \"\";position: absolute;border-left: 1px solid gray;box-sizing: border-box;top: 0;bottom: 0;left: 50%;z-index: -1;}#sk-container-id-1 div.sk-parallel-item {display: flex;flex-direction: column;z-index: 1;position: relative;background-color: white;}#sk-container-id-1 div.sk-parallel-item:first-child::after {align-self: flex-end;width: 50%;}#sk-container-id-1 div.sk-parallel-item:last-child::after {align-self: flex-start;width: 50%;}#sk-container-id-1 div.sk-parallel-item:only-child::after {width: 0;}#sk-container-id-1 div.sk-dashed-wrapped {border: 1px dashed gray;margin: 0 0.4em 0.5em 0.4em;box-sizing: border-box;padding-bottom: 0.4em;background-color: white;}#sk-container-id-1 div.sk-label label {font-family: monospace;font-weight: bold;display: inline-block;line-height: 1.2em;}#sk-container-id-1 div.sk-label-container {text-align: center;}#sk-container-id-1 div.sk-container {/* jupyter's `normalize.less` sets `[hidden] { display: none; }` but bootstrap.min.css set `[hidden] { display: none !important; }` so we also need the `!important` here to be able to override the default hidden behavior on the sphinx rendered scikit-learn.org. See: https://github.com/scikit-learn/scikit-learn/issues/21755 */display: inline-block !important;position: relative;}#sk-container-id-1 div.sk-text-repr-fallback {display: none;}</style><div id=\"sk-container-id-1\" class=\"sk-top-container\"><div class=\"sk-text-repr-fallback\"><pre>Pipeline(steps=[(&#x27;count_vectorizer&#x27;, CountVectorizer()),\n",
       "                (&#x27;multinomialNB&#x27;, MultinomialNB())])</pre><b>In a Jupyter environment, please rerun this cell to show the HTML representation or trust the notebook. <br />On GitHub, the HTML representation is unable to render, please try loading this page with nbviewer.org.</b></div><div class=\"sk-container\" hidden><div class=\"sk-item sk-dashed-wrapped\"><div class=\"sk-label-container\"><div class=\"sk-label sk-toggleable\"><input class=\"sk-toggleable__control sk-hidden--visually\" id=\"sk-estimator-id-1\" type=\"checkbox\" ><label for=\"sk-estimator-id-1\" class=\"sk-toggleable__label sk-toggleable__label-arrow\">Pipeline</label><div class=\"sk-toggleable__content\"><pre>Pipeline(steps=[(&#x27;count_vectorizer&#x27;, CountVectorizer()),\n",
       "                (&#x27;multinomialNB&#x27;, MultinomialNB())])</pre></div></div></div><div class=\"sk-serial\"><div class=\"sk-item\"><div class=\"sk-estimator sk-toggleable\"><input class=\"sk-toggleable__control sk-hidden--visually\" id=\"sk-estimator-id-2\" type=\"checkbox\" ><label for=\"sk-estimator-id-2\" class=\"sk-toggleable__label sk-toggleable__label-arrow\">CountVectorizer</label><div class=\"sk-toggleable__content\"><pre>CountVectorizer()</pre></div></div></div><div class=\"sk-item\"><div class=\"sk-estimator sk-toggleable\"><input class=\"sk-toggleable__control sk-hidden--visually\" id=\"sk-estimator-id-3\" type=\"checkbox\" ><label for=\"sk-estimator-id-3\" class=\"sk-toggleable__label sk-toggleable__label-arrow\">MultinomialNB</label><div class=\"sk-toggleable__content\"><pre>MultinomialNB()</pre></div></div></div></div></div></div></div>"
      ],
      "text/plain": [
       "Pipeline(steps=[('count_vectorizer', CountVectorizer()),\n",
       "                ('multinomialNB', MultinomialNB())])"
      ]
     },
     "execution_count": 28,
     "metadata": {},
     "output_type": "execute_result"
    }
   ],
   "source": [
    "from sklearn.feature_extraction.text import CountVectorizer\n",
    "from sklearn.naive_bayes import MultinomialNB\n",
    "from sklearn.pipeline import Pipeline\n",
    "\n",
    "naive_bayes_pipeline = Pipeline([('count_vectorizer', CountVectorizer()), ('multinomialNB', MultinomialNB())])\n",
    "naive_bayes_pipeline.fit(X_train, y_train)"
   ]
  },
  {
   "cell_type": "code",
   "execution_count": 30,
   "id": "b2361f8f",
   "metadata": {},
   "outputs": [
    {
     "data": {
      "text/plain": [
       "array([4, 2, 1, 5, 5, 0, 3, 3, 1, 1, 5, 3, 2, 2, 1, 2, 0, 4, 0, 5, 1, 3,\n",
       "       0, 4, 3, 0, 5, 0, 3, 4, 5, 3, 3, 4, 1, 1, 0, 5, 5, 2, 5, 3, 2, 0,\n",
       "       3, 5, 3, 1, 5, 5, 2, 0, 0, 3, 0, 5, 4, 1, 3, 1, 0, 0, 1, 2, 3, 1,\n",
       "       1, 5, 3, 3, 5, 4, 0, 5, 1, 4, 1, 0, 2, 2, 1, 2, 5, 0, 3, 4, 5, 5,\n",
       "       1, 5, 5, 1, 2, 1, 1, 1, 4, 1, 5, 3, 5, 2, 4, 3, 1, 4, 0, 3, 4, 1,\n",
       "       1, 3, 2, 5, 5, 3, 3, 3, 5, 2, 3, 1, 1, 2, 0, 0, 3, 3, 5, 3, 5, 5,\n",
       "       3, 4, 3, 1, 0, 1, 0, 1, 3, 0, 2, 3, 3, 3, 5, 4, 4, 3, 3, 2, 1, 2,\n",
       "       0, 4, 2, 2, 5, 2, 2, 0, 4, 5, 1, 1, 0, 3, 3, 2, 5, 2, 5, 3, 3, 0,\n",
       "       5, 0, 5, 4, 5, 3, 2, 0, 4, 1, 2, 3, 3, 3, 0, 5, 4, 5, 5, 5, 2, 1,\n",
       "       2, 5, 5, 4, 0, 1, 2, 3, 2, 5, 1, 3, 4, 0, 4, 5, 0, 1, 5, 0, 2, 2,\n",
       "       0, 3, 5, 3, 5, 1, 5, 2, 3, 5, 5, 0, 3, 3, 1, 2, 1, 3, 3, 5, 5, 1,\n",
       "       1, 4, 4, 4, 5, 5, 5, 2, 3, 2, 1, 3, 1, 2, 1, 0, 4, 1, 5, 5, 2, 4,\n",
       "       3, 4, 0, 3, 2, 3, 4, 0, 3, 3, 1, 1, 5, 2, 5, 2, 3, 4, 2, 3, 3, 5,\n",
       "       1, 1, 0, 3, 4, 5, 4, 2, 3, 5, 5, 3, 0, 4, 5, 0, 4, 3, 2, 5, 0, 0,\n",
       "       1, 5, 3, 3, 5, 3, 3, 3, 3, 1, 5, 0, 4, 1, 3, 3, 0, 0, 2, 1, 4, 4,\n",
       "       0, 2, 5, 3, 3, 3, 2, 1, 0, 1, 1, 4, 5, 2, 5, 4, 1, 3, 3, 2, 1, 5,\n",
       "       3, 3, 1, 4, 5, 4, 1, 4, 5, 0, 1, 1, 1, 0, 1, 0, 1, 0, 4, 5, 2, 5,\n",
       "       1, 0, 1, 0, 4, 5, 0, 5, 0, 1, 0, 2, 3, 2, 3, 2, 4, 2, 1, 3, 1, 0,\n",
       "       0, 5, 2, 2, 3, 2, 4, 0, 5, 2, 1, 4, 5, 4, 0, 1, 0, 5, 1, 2, 5, 3,\n",
       "       4, 1, 3, 5, 1, 0, 3, 2, 1, 2, 4, 2, 5, 3, 2, 3, 2, 3, 0, 1, 0, 1,\n",
       "       4, 0, 3, 3, 3, 5, 3, 0, 2, 4, 1, 2, 3, 3, 0, 3, 2, 4, 1, 5, 1, 0,\n",
       "       3, 4, 3, 5, 5, 5, 1, 2, 0, 4, 1, 3, 5, 3, 3, 2, 4, 1, 0, 3, 3, 0,\n",
       "       0, 3, 0, 5, 3, 5, 4, 5, 4, 0, 3, 1, 2, 2, 2, 3, 5, 1, 2, 1, 2, 2,\n",
       "       3, 2, 4, 1, 0, 0, 4, 4, 2, 5, 1, 1, 5, 5, 1, 4, 2, 3, 2, 4, 1, 0,\n",
       "       4, 0, 0, 1, 0, 5, 4, 4, 5, 0, 4, 5, 0, 5, 3, 1, 5, 5, 2, 2, 2, 0,\n",
       "       0, 4, 3, 2, 0, 0, 0, 1, 3, 0, 5, 1, 3, 5, 4, 0, 4, 4, 1, 0, 0, 1,\n",
       "       4, 4, 4, 5, 4, 3, 1, 2, 2, 4, 3, 1, 0, 4, 0, 4, 4, 5, 3, 3, 1, 5,\n",
       "       4, 2, 3, 4, 2, 2, 5, 2, 2, 5, 4, 1, 5, 0, 3, 1, 5, 4, 5, 0, 1, 3,\n",
       "       0, 5, 3, 3, 4, 1, 4, 4, 3, 0, 3, 1, 1, 4, 4, 4, 5, 4, 3, 4, 2, 0,\n",
       "       1, 5, 0, 3, 1, 1, 3, 4, 4, 4, 1, 3, 5, 1, 3, 4, 4, 3, 3, 5, 5, 1,\n",
       "       5, 5, 0, 3, 5, 5, 0, 5, 2, 4, 1, 0, 3, 0, 3, 5, 3, 3, 3, 0, 5, 3,\n",
       "       3, 4, 5, 4, 5, 0, 5, 5, 5, 3, 0, 2, 3, 5, 4, 4, 0, 2, 0, 1, 4, 3,\n",
       "       1, 2, 4, 0, 3, 4, 2, 5, 3, 2, 3, 1, 3, 3, 3, 1, 5, 0, 5, 0, 1, 2,\n",
       "       2, 4, 5, 4, 4, 4, 4, 2, 5, 1, 0, 2, 4, 1, 5, 5, 1, 1, 0, 2, 1, 3,\n",
       "       4, 0, 2, 5, 0, 0, 5, 3, 0, 5, 1, 0, 5, 5, 3, 5, 1, 3, 3, 1, 5, 0,\n",
       "       2, 1, 0, 0, 2, 2, 1, 2, 1, 1, 0, 3, 1, 3])"
      ]
     },
     "execution_count": 30,
     "metadata": {},
     "output_type": "execute_result"
    }
   ],
   "source": [
    "prediction = naive_bayes_pipeline.predict(X_test)\n",
    "prediction"
   ]
  },
  {
   "cell_type": "code",
   "execution_count": 31,
   "id": "784464e0",
   "metadata": {},
   "outputs": [
    {
     "data": {
      "text/plain": [
       "0.7155612244897959"
      ]
     },
     "execution_count": 31,
     "metadata": {},
     "output_type": "execute_result"
    }
   ],
   "source": [
    "naive_bayes_pipeline.score(X_test, y_test)"
   ]
  },
  {
   "cell_type": "code",
   "execution_count": 36,
   "id": "31111658",
   "metadata": {},
   "outputs": [],
   "source": [
    "from sklearn.metrics import accuracy_score, precision_score , recall_score , confusion_matrix, ConfusionMatrixDisplay, f1_score, roc_auc_score\n",
    "import matplotlib.pyplot as plt\n",
    "# 타겟 데이터와 예측 객체를 전달받는다.\n",
    "def get_evaluation(y_test, prediction, classifier=None, X_test=None):\n",
    "#     오차 행렬\n",
    "    confusion = confusion_matrix(y_test, prediction)\n",
    "#     정확도\n",
    "    accuracy = accuracy_score(y_test , prediction)\n",
    "#     정밀도\n",
    "    precision = precision_score(y_test , prediction, average='macro')\n",
    "#     재현율\n",
    "    recall = recall_score(y_test , prediction, average='macro')\n",
    "#     F1 score\n",
    "    f1 = f1_score(y_test, prediction, average='macro')\n",
    "#     ROC-AUC : 연구 대상\n",
    "#     roc_auc = roc_auc_score(y_test, prediction)\n",
    "\n",
    "    print('오차 행렬')\n",
    "    print(confusion)\n",
    "    print('정확도: {0:.4f}, 정밀도: {1:.4f}, 재현율: {2:.4f}, F1:{3:.4f}'.format(accuracy , precision ,recall, f1))\n",
    "    print(\"#\" * 75)\n",
    "    \n",
    "    if classifier is not None and  X_test is not None:\n",
    "        fig, axes = plt.subplots(nrows=1, ncols=2, figsize=(8,4))\n",
    "        titles_options = [(\"Confusion matrix\", None), (\"Normalized confusion matrix\", \"true\")]\n",
    "\n",
    "        for (title, normalize), ax in zip(titles_options, axes.flatten()):\n",
    "            disp = ConfusionMatrixDisplay.from_estimator(classifier, X_test, y_test, ax=ax, cmap=plt.cm.Blues, normalize=normalize)\n",
    "            disp.ax_.set_title(title)\n",
    "        plt.show()"
   ]
  },
  {
   "cell_type": "code",
   "execution_count": 37,
   "id": "acc0232f",
   "metadata": {},
   "outputs": [
    {
     "name": "stdout",
     "output_type": "stream",
     "text": [
      "오차 행렬\n",
      "[[ 90   9   5  12  10   5]\n",
      " [ 10  89   6   8   7  11]\n",
      " [  5  15  74  19   9   8]\n",
      " [  1   3  11 111   2   3]\n",
      " [ 13  11   7   5  85   9]\n",
      " [  4   7   5   3   0 112]]\n",
      "정확도: 0.7156, 정밀도: 0.7154, 재현율: 0.7153, F1:0.7121\n",
      "###########################################################################\n"
     ]
    },
    {
     "data": {
      "image/png": "[encoded data removed]",
      "text/plain": [
       "<Figure size 800x400 with 4 Axes>"
      ]
     },
     "metadata": {},
     "output_type": "display_data"
    }
   ],
   "source": [
    "get_evaluation(y_test, prediction, naive_bayes_pipeline, X_test)"
   ]
  }
 ],
 "metadata": {
  "kernelspec": {
   "display_name": "Python 3 (ipykernel)",
   "language": "python",
   "name": "python3"
  },
  "language_info": {
   "codemirror_mode": {
    "name": "ipython",
    "version": 3
   },
   "file_extension": ".py",
   "mimetype": "text/x-python",
   "name": "python",
   "nbconvert_exporter": "python",
   "pygments_lexer": "ipython3",
   "version": "3.11.5"
  }
 },
 "nbformat": 4,
 "nbformat_minor": 5
}
