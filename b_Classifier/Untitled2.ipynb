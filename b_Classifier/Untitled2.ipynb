{
 "cells": [
  {
   "cell_type": "code",
   "execution_count": 3,
   "id": "9da5169f",
   "metadata": {},
   "outputs": [],
   "source": [
    "import pandas as pd\n",
    "\n",
    "# 데이터 로딩\n",
    "df = pd.read_csv('./datasets/heart_2020_cleaned.csv')\n",
    "\n",
    "# 생활습관 데이터셋\n",
    "lifestyle_heart_df = df[['Smoking', 'AlcoholDrinking', 'PhysicalActivity', 'SleepTime', 'Race']]\n",
    "\n",
    "# 의료상태 데이터셋\n",
    "medical_heart_df = df[['BMI', 'Stroke', 'PhysicalHealth','AgeCategory', 'MentalHealth', 'DiffWalking', 'Diabetic', 'GenHealth', 'Asthma', 'KidneyDisease', 'SkinCancer', 'HeartDisease', 'Sex']]\n",
    "\n",
    "# 각 데이터셋을 CSV 파일로 저장\n",
    "lifestyle_heart_df.to_csv('lifestyle_heart_dataset.csv', index=False)\n",
    "medical_heart_df.to_csv('medical_heart_dataset.csv', index=False)\n"
   ]
  }
 ],
 "metadata": {
  "kernelspec": {
   "display_name": "Python 3 (ipykernel)",
   "language": "python",
   "name": "python3"
  },
  "language_info": {
   "codemirror_mode": {
    "name": "ipython",
    "version": 3
   },
   "file_extension": ".py",
   "mimetype": "text/x-python",
   "name": "python",
   "nbconvert_exporter": "python",
   "pygments_lexer": "ipython3",
   "version": "3.11.5"
  }
 },
 "nbformat": 4,
 "nbformat_minor": 5
}
