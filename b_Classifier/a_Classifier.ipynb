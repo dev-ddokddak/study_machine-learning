{
 "cells": [
  {
   "cell_type": "markdown",
   "id": "4f6e31a4",
   "metadata": {},
   "source": [
    "### 분류(Classifier)\n",
    "- 대표적인 지도학습 방법 중 하나이며, 다양한 문제와 정답을 학습한 뒤 별도의 테스트에서 정답을 예측한다.\n",
    "- 주어진 문제를 먼저 학습한 뒤 새로운 문제에 대한 정답을 예측하는 방식이다.\n",
    "- 이진분류(Binary Classification)의 경우 정답은 0(음성, Negative)과 1(양성, Positive)과 같이 True, False값을 가진다.  \n",
    "<div style=\"width:500px; height:200px; display: flex; margin-top: 25px; margin-bottom: 25px; margin-left: 0px;\">\n",
    "    <div>\n",
    "        <img src=\"./images/classifier01.png\" width=\"200\">  \n",
    "    </div>\n",
    "    <div style=\"width: 200px; heigth: 100px; margin-top: 25px; margin-left: 30px;\">\n",
    "        <img src=\"./images/classifier02.png\">  \n",
    "    </div>\n",
    "</div>\n",
    "- 다중 분류(Multiclass Classification)는 정답이 가질 수 있는 값은 3개 이상이다(예: 0, 1, 2).  \n",
    "<img src=\"./images/classifier03.png\" width=\"300\" style=\"margin-top: 25px; margin-left: 0px;\"> "
   ]
  },
  {
   "cell_type": "markdown",
   "id": "8e0afbd8",
   "metadata": {},
   "source": [
    "###  📌용어 정리\n",
    "##### 피처(Feature)\n",
    "- 데이터 세트의 일반 컬럼이며, 2차원 이상의 다차원 데이터까지 통틀어 피처라고 한다.\n",
    "- 타겟을 제외한 나머지 속성을 의미한다.\n",
    "##### 레이블(Label), 클래스(Class), 타겟(Target), 결정(Decision)\n",
    "- 지도 학습 시 데이터의 학습을 위해 주어지는 정답을 의미한다.\n",
    "- 지도 학습 중, 분류의 경우 이를 레이블 또는 클래스라고도 부른다.\n",
    "\n",
    "<img src=\"./images/feature_target.png\" width=\"450\" style=\"margin-left: 0\">"
   ]
  },
  {
   "cell_type": "markdown",
   "id": "3509cb8c",
   "metadata": {},
   "source": [
    "### 분류 예측 프로세스\n",
    "<img src=\"./images/classifier_flow.png\">"
   ]
  },
  {
   "cell_type": "markdown",
   "id": "58648537",
   "metadata": {},
   "source": [
    "### 붓꽃 품종 예측\n",
    "- 다중 분류(Multiclass Classification)\n",
    "##### Featuer\n",
    "- sepal length : 꽃받침의 길이\n",
    "- sepal width : 꽃받침의 너비\n",
    "- petal length : 꽃잎의 길이\n",
    "- petal width: 꽃잎의 너비\n",
    "\n",
    "##### Target(Label)\n",
    "- 0 : Setosa\n",
    "- 1 : Vesicolor\n",
    "- 2 : Virginica"
   ]
  },
  {
   "cell_type": "code",
   "execution_count": 1,
   "id": "3e77d1cf",
   "metadata": {},
   "outputs": [
    {
     "name": "stdout",
     "output_type": "stream",
     "text": [
      "1.3.0\n"
     ]
    }
   ],
   "source": [
    "import sklearn\n",
    "print(sklearn.__version__)"
   ]
  },
  {
   "cell_type": "code",
   "execution_count": null,
   "id": "ea3b51d3",
   "metadata": {},
   "outputs": [],
   "source": [
    "# 사이킷런 라이브러리에 내장된 iris(붓꽃) 데이터\n",
    "from sklearn.datasets import load_iris\n",
    "\n",
    "# 결정 트리 모델\n",
    "from sklearn.tree import DecisionTreeClassifier\n",
    "\n",
    "# 학습 데이터 세트와 테스트 데"
   ]
  }
 ],
 "metadata": {
  "kernelspec": {
   "display_name": "Python 3 (ipykernel)",
   "language": "python",
   "name": "python3"
  },
  "language_info": {
   "codemirror_mode": {
    "name": "ipython",
    "version": 3
   },
   "file_extension": ".py",
   "mimetype": "text/x-python",
   "name": "python",
   "nbconvert_exporter": "python",
   "pygments_lexer": "ipython3",
   "version": "3.11.5"
  }
 },
 "nbformat": 4,
 "nbformat_minor": 5
}
