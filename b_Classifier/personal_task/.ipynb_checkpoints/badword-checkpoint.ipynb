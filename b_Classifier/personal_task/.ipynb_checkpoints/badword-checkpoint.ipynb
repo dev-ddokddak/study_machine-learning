{
 "cells": [
  {
   "cell_type": "markdown",
   "id": "d0ad4063",
   "metadata": {},
   "source": [
    "# 나이브 베이즈를 활용\n",
    "### BadWord 분류기"
   ]
  },
  {
   "cell_type": "code",
   "execution_count": 1,
   "id": "efcb96ed",
   "metadata": {},
   "outputs": [],
   "source": [
    "import pandas as pd\n",
    "from sklearn.pipeline import Pipeline\n",
    "from sklearn.feature_extraction.text import TfidfVectorizer\n",
    "from sklearn.naive_bayes import MultinomialNB\n",
    "from sklearn.metrics import accuracy_score, classification_report\n"
   ]
  },
  {
   "cell_type": "code",
   "execution_count": 2,
   "id": "f2d5a435",
   "metadata": {},
   "outputs": [],
   "source": [
    "train_df = pd.read_csv('../datasets/badword_train.tsv', delimiter='\\t')\n",
    "dev_df = pd.read_csv('../datasets/badword_dev.tsv', delimiter='\\t')\n",
    "badword_df = pd.concat([train_df, dev_df], ignore_index=True)"
   ]
  },
  {
   "cell_type": "code",
   "execution_count": 3,
   "id": "95c9a042",
   "metadata": {},
   "outputs": [
    {
     "data": {
      "text/html": [
       "<div>\n",
       "<style scoped>\n",
       "    .dataframe tbody tr th:only-of-type {\n",
       "        vertical-align: middle;\n",
       "    }\n",
       "\n",
       "    .dataframe tbody tr th {\n",
       "        vertical-align: top;\n",
       "    }\n",
       "\n",
       "    .dataframe thead th {\n",
       "        text-align: right;\n",
       "    }\n",
       "</style>\n",
       "<table border=\"1\" class=\"dataframe\">\n",
       "  <thead>\n",
       "    <tr style=\"text-align: right;\">\n",
       "      <th></th>\n",
       "      <th>comments</th>\n",
       "      <th>contain_gender_bias</th>\n",
       "      <th>bias</th>\n",
       "      <th>hate</th>\n",
       "    </tr>\n",
       "  </thead>\n",
       "  <tbody>\n",
       "    <tr>\n",
       "      <th>0</th>\n",
       "      <td>(현재 호텔주인 심정) 아18 난 마른하늘에 날벼락맞고 호텔망하게생겼는데 누군 계속...</td>\n",
       "      <td>False</td>\n",
       "      <td>others</td>\n",
       "      <td>hate</td>\n",
       "    </tr>\n",
       "    <tr>\n",
       "      <th>1</th>\n",
       "      <td>....한국적인 미인의 대표적인 분...너무나 곱고아름다운모습...그모습뒤의 슬픔을...</td>\n",
       "      <td>False</td>\n",
       "      <td>none</td>\n",
       "      <td>none</td>\n",
       "    </tr>\n",
       "    <tr>\n",
       "      <th>2</th>\n",
       "      <td>...못된 넘들...남의 고통을 즐겼던 넘들..이젠 마땅한 처벌을 받아야지..,그래...</td>\n",
       "      <td>False</td>\n",
       "      <td>none</td>\n",
       "      <td>hate</td>\n",
       "    </tr>\n",
       "    <tr>\n",
       "      <th>3</th>\n",
       "      <td>1,2화 어설펐는데 3,4화 지나서부터는 갈수록 너무 재밌던데</td>\n",
       "      <td>False</td>\n",
       "      <td>none</td>\n",
       "      <td>none</td>\n",
       "    </tr>\n",
       "    <tr>\n",
       "      <th>4</th>\n",
       "      <td>1. 사람 얼굴 손톱으로 긁은것은 인격살해이고2. 동영상이 몰카냐? 메걸리안들 생각...</td>\n",
       "      <td>True</td>\n",
       "      <td>gender</td>\n",
       "      <td>hate</td>\n",
       "    </tr>\n",
       "    <tr>\n",
       "      <th>...</th>\n",
       "      <td>...</td>\n",
       "      <td>...</td>\n",
       "      <td>...</td>\n",
       "      <td>...</td>\n",
       "    </tr>\n",
       "    <tr>\n",
       "      <th>8362</th>\n",
       "      <td>지현우 범죄 저지르지 않았나요?</td>\n",
       "      <td>False</td>\n",
       "      <td>none</td>\n",
       "      <td>offensive</td>\n",
       "    </tr>\n",
       "    <tr>\n",
       "      <th>8363</th>\n",
       "      <td>여자인생 망칠 일 있나 ㅋㅋ</td>\n",
       "      <td>True</td>\n",
       "      <td>gender</td>\n",
       "      <td>hate</td>\n",
       "    </tr>\n",
       "    <tr>\n",
       "      <th>8364</th>\n",
       "      <td>근데 전라도에서 사고가 났는데 굳이 서울까지 와서 병원에 가느 이유는?</td>\n",
       "      <td>False</td>\n",
       "      <td>others</td>\n",
       "      <td>offensive</td>\n",
       "    </tr>\n",
       "    <tr>\n",
       "      <th>8365</th>\n",
       "      <td>할매젖x, 뱃살x, 몸매 s라인, 유륜은 적당해야됨(너무크거나 너무 작아도 x), ...</td>\n",
       "      <td>True</td>\n",
       "      <td>gender</td>\n",
       "      <td>hate</td>\n",
       "    </tr>\n",
       "    <tr>\n",
       "      <th>8366</th>\n",
       "      <td>남자가 잘못한거라면... 반성도 없다면...나였다면 ... 여자처럼 아주 못되게 할...</td>\n",
       "      <td>True</td>\n",
       "      <td>gender</td>\n",
       "      <td>none</td>\n",
       "    </tr>\n",
       "  </tbody>\n",
       "</table>\n",
       "<p>8367 rows × 4 columns</p>\n",
       "</div>"
      ],
      "text/plain": [
       "                                               comments  contain_gender_bias  \\\n",
       "0     (현재 호텔주인 심정) 아18 난 마른하늘에 날벼락맞고 호텔망하게생겼는데 누군 계속...                False   \n",
       "1     ....한국적인 미인의 대표적인 분...너무나 곱고아름다운모습...그모습뒤의 슬픔을...                False   \n",
       "2     ...못된 넘들...남의 고통을 즐겼던 넘들..이젠 마땅한 처벌을 받아야지..,그래...                False   \n",
       "3                    1,2화 어설펐는데 3,4화 지나서부터는 갈수록 너무 재밌던데                False   \n",
       "4     1. 사람 얼굴 손톱으로 긁은것은 인격살해이고2. 동영상이 몰카냐? 메걸리안들 생각...                 True   \n",
       "...                                                 ...                  ...   \n",
       "8362                                  지현우 범죄 저지르지 않았나요?                False   \n",
       "8363                                    여자인생 망칠 일 있나 ㅋㅋ                 True   \n",
       "8364            근데 전라도에서 사고가 났는데 굳이 서울까지 와서 병원에 가느 이유는?                False   \n",
       "8365  할매젖x, 뱃살x, 몸매 s라인, 유륜은 적당해야됨(너무크거나 너무 작아도 x), ...                 True   \n",
       "8366  남자가 잘못한거라면... 반성도 없다면...나였다면 ... 여자처럼 아주 못되게 할...                 True   \n",
       "\n",
       "        bias       hate  \n",
       "0     others       hate  \n",
       "1       none       none  \n",
       "2       none       hate  \n",
       "3       none       none  \n",
       "4     gender       hate  \n",
       "...      ...        ...  \n",
       "8362    none  offensive  \n",
       "8363  gender       hate  \n",
       "8364  others  offensive  \n",
       "8365  gender       hate  \n",
       "8366  gender       none  \n",
       "\n",
       "[8367 rows x 4 columns]"
      ]
     },
     "execution_count": 3,
     "metadata": {},
     "output_type": "execute_result"
    }
   ],
   "source": [
    "badword_df"
   ]
  },
  {
   "cell_type": "markdown",
   "id": "82b9a278",
   "metadata": {},
   "source": [
    "##### 결측치 검사"
   ]
  },
  {
   "cell_type": "code",
   "execution_count": 4,
   "id": "51e20217",
   "metadata": {
    "scrolled": true
   },
   "outputs": [
    {
     "data": {
      "text/plain": [
       "comments               0\n",
       "contain_gender_bias    0\n",
       "bias                   0\n",
       "hate                   0\n",
       "dtype: int64"
      ]
     },
     "execution_count": 4,
     "metadata": {},
     "output_type": "execute_result"
    }
   ],
   "source": [
    "badword_df.isna().sum()"
   ]
  },
  {
   "cell_type": "markdown",
   "id": "3abbd994",
   "metadata": {},
   "source": [
    "##### 중복값 검사"
   ]
  },
  {
   "cell_type": "code",
   "execution_count": 5,
   "id": "43e22ae5",
   "metadata": {},
   "outputs": [
    {
     "data": {
      "text/plain": [
       "0"
      ]
     },
     "execution_count": 5,
     "metadata": {},
     "output_type": "execute_result"
    }
   ],
   "source": [
    "badword_df.duplicated().sum()"
   ]
  },
  {
   "cell_type": "markdown",
   "id": "8f98ac65",
   "metadata": {},
   "source": [
    "##### 레이블 인코딩"
   ]
  },
  {
   "cell_type": "code",
   "execution_count": 6,
   "id": "deb47bd6",
   "metadata": {},
   "outputs": [],
   "source": [
    "from sklearn.preprocessing import LabelEncoder\n",
    "\n",
    "badword_encoder = LabelEncoder()\n",
    "targets = badword_encoder.fit_transform(badword_df.hate)\n",
    "badword_df['hate'] = targets"
   ]
  },
  {
   "cell_type": "code",
   "execution_count": 7,
   "id": "14c70dd6",
   "metadata": {
    "scrolled": true
   },
   "outputs": [
    {
     "data": {
      "text/plain": [
       "array(['hate', 'none', 'offensive'], dtype=object)"
      ]
     },
     "execution_count": 7,
     "metadata": {},
     "output_type": "execute_result"
    }
   ],
   "source": [
    "badword_encoder.classes_"
   ]
  },
  {
   "cell_type": "code",
   "execution_count": 8,
   "id": "1863340a",
   "metadata": {},
   "outputs": [
    {
     "name": "stdout",
     "output_type": "stream",
     "text": [
      "hate\n",
      "1    3646\n",
      "2    2688\n",
      "0    2033\n",
      "Name: count, dtype: int64\n"
     ]
    }
   ],
   "source": [
    "class_counts = badword_df['hate'].value_counts()\n",
    "print(class_counts)"
   ]
  },
  {
   "cell_type": "markdown",
   "id": "8c542f3e",
   "metadata": {},
   "source": [
    "##### 오버샘플링"
   ]
  },
  {
   "cell_type": "code",
   "execution_count": 9,
   "id": "8bd4d49b",
   "metadata": {
    "scrolled": true
   },
   "outputs": [],
   "source": [
    "# pip install imbalanced-learn  오버샘플링을 하기 위한 라이브러리 설치"
   ]
  },
  {
   "cell_type": "code",
   "execution_count": 10,
   "id": "46d51560",
   "metadata": {},
   "outputs": [],
   "source": [
    "# from imblearn.over_sampling import SMOTE\n",
    "\n",
    "# # 분리할 feature와 target 정의\n",
    "# X = badword_df['Message'].values.reshape(-1, 1)  # Feature\n",
    "# y = badword_df['hate']  # Target\n",
    "\n",
    "# smote = SMOTE(random_state=42)\n",
    "# X_resampled, y_resampled = smote.fit_resample(X, y)\n",
    "\n",
    "# # 오버샘플링 후 각 클래스의 개수 확인\n",
    "# print(pd.Series(y_resampled).value_counts())\n",
    "\n",
    "# 오버샘플링을 시도해보려 했으나, 버젼 호환성 문제로 불가능했음. \n",
    "# 현재는 수업을 들으며 데이터 분석을 계속 해야하기때문에, 강의 버젼으로 유지하고 이후에 오버샘플링을 다시 도전해보겠음."
   ]
  },
  {
   "cell_type": "markdown",
   "id": "5514e313",
   "metadata": {},
   "source": [
    "##### 언더샘플링"
   ]
  },
  {
   "cell_type": "code",
   "execution_count": 11,
   "id": "4bee6eb1",
   "metadata": {},
   "outputs": [
    {
     "name": "stdout",
     "output_type": "stream",
     "text": [
      "hate\n",
      "2    2033\n",
      "0    2033\n",
      "1    2033\n",
      "Name: count, dtype: int64\n"
     ]
    }
   ],
   "source": [
    "sample_size = 2033\n",
    "\n",
    "# 각 클래스별로 무작위 샘플을 추출\n",
    "undersampled_data = []\n",
    "\n",
    "for category in class_counts.index:\n",
    "    sample = badword_df[badword_df['hate'] == category].sample(sample_size, replace=False, random_state=42)\n",
    "    undersampled_data.append(sample)\n",
    "\n",
    "# 추출된 샘플들을 하나의 데이터프레임으로 합친다.\n",
    "undersampled_df = pd.concat(undersampled_data).sample(frac=1, random_state=42).reset_index(drop=True)\n",
    "\n",
    "print(undersampled_df['hate'].value_counts())\n"
   ]
  },
  {
   "cell_type": "code",
   "execution_count": 12,
   "id": "10129fa1",
   "metadata": {},
   "outputs": [
    {
     "name": "stdout",
     "output_type": "stream",
     "text": [
      "[[1 0 1 0 0 1 1 0]\n",
      " [0 0 0 1 0 0 0 1]\n",
      " [0 1 0 0 1 0 0 0]]\n",
      "{'아무것도': 6, '아닌': 5, '똥꼬다리': 2, '같은': 0, '애꾸눈': 7, '병신': 3, '빨갱이': 4, '계집년': 1}\n"
     ]
    }
   ],
   "source": [
    "# 벡터화를 시연하기 위한 예제\n",
    "from sklearn.feature_extraction.text import CountVectorizer\n",
    "\n",
    "text = [\"아무것도 아닌 똥꼬다리 같은 놈\", \n",
    "        \"애꾸눈, 병신\",\n",
    "        \"빨갱이 계집년\"]\n",
    "        \n",
    "count_vec = CountVectorizer()\n",
    "m = count_vec.fit_transform(text)\n",
    "print(m.toarray())\n",
    "\n",
    "# 각 열번호가 뜻하는 단어\n",
    "print(count_vec.vocabulary_)"
   ]
  },
  {
   "cell_type": "code",
   "execution_count": 13,
   "id": "beec7379",
   "metadata": {},
   "outputs": [],
   "source": [
    "from sklearn.model_selection import train_test_split\n",
    "X_train, X_test, y_train, y_test = train_test_split(badword_df.comments, badword_df.hate, test_size=0.3, stratify=badword_df.hate)\n"
   ]
  },
  {
   "cell_type": "code",
   "execution_count": 14,
   "id": "c92d71dc",
   "metadata": {},
   "outputs": [
    {
     "data": {
      "text/html": [
       "<style>#sk-container-id-1 {color: black;}#sk-container-id-1 pre{padding: 0;}#sk-container-id-1 div.sk-toggleable {background-color: white;}#sk-container-id-1 label.sk-toggleable__label {cursor: pointer;display: block;width: 100%;margin-bottom: 0;padding: 0.3em;box-sizing: border-box;text-align: center;}#sk-container-id-1 label.sk-toggleable__label-arrow:before {content: \"▸\";float: left;margin-right: 0.25em;color: #696969;}#sk-container-id-1 label.sk-toggleable__label-arrow:hover:before {color: black;}#sk-container-id-1 div.sk-estimator:hover label.sk-toggleable__label-arrow:before {color: black;}#sk-container-id-1 div.sk-toggleable__content {max-height: 0;max-width: 0;overflow: hidden;text-align: left;background-color: #f0f8ff;}#sk-container-id-1 div.sk-toggleable__content pre {margin: 0.2em;color: black;border-radius: 0.25em;background-color: #f0f8ff;}#sk-container-id-1 input.sk-toggleable__control:checked~div.sk-toggleable__content {max-height: 200px;max-width: 100%;overflow: auto;}#sk-container-id-1 input.sk-toggleable__control:checked~label.sk-toggleable__label-arrow:before {content: \"▾\";}#sk-container-id-1 div.sk-estimator input.sk-toggleable__control:checked~label.sk-toggleable__label {background-color: #d4ebff;}#sk-container-id-1 div.sk-label input.sk-toggleable__control:checked~label.sk-toggleable__label {background-color: #d4ebff;}#sk-container-id-1 input.sk-hidden--visually {border: 0;clip: rect(1px 1px 1px 1px);clip: rect(1px, 1px, 1px, 1px);height: 1px;margin: -1px;overflow: hidden;padding: 0;position: absolute;width: 1px;}#sk-container-id-1 div.sk-estimator {font-family: monospace;background-color: #f0f8ff;border: 1px dotted black;border-radius: 0.25em;box-sizing: border-box;margin-bottom: 0.5em;}#sk-container-id-1 div.sk-estimator:hover {background-color: #d4ebff;}#sk-container-id-1 div.sk-parallel-item::after {content: \"\";width: 100%;border-bottom: 1px solid gray;flex-grow: 1;}#sk-container-id-1 div.sk-label:hover label.sk-toggleable__label {background-color: #d4ebff;}#sk-container-id-1 div.sk-serial::before {content: \"\";position: absolute;border-left: 1px solid gray;box-sizing: border-box;top: 0;bottom: 0;left: 50%;z-index: 0;}#sk-container-id-1 div.sk-serial {display: flex;flex-direction: column;align-items: center;background-color: white;padding-right: 0.2em;padding-left: 0.2em;position: relative;}#sk-container-id-1 div.sk-item {position: relative;z-index: 1;}#sk-container-id-1 div.sk-parallel {display: flex;align-items: stretch;justify-content: center;background-color: white;position: relative;}#sk-container-id-1 div.sk-item::before, #sk-container-id-1 div.sk-parallel-item::before {content: \"\";position: absolute;border-left: 1px solid gray;box-sizing: border-box;top: 0;bottom: 0;left: 50%;z-index: -1;}#sk-container-id-1 div.sk-parallel-item {display: flex;flex-direction: column;z-index: 1;position: relative;background-color: white;}#sk-container-id-1 div.sk-parallel-item:first-child::after {align-self: flex-end;width: 50%;}#sk-container-id-1 div.sk-parallel-item:last-child::after {align-self: flex-start;width: 50%;}#sk-container-id-1 div.sk-parallel-item:only-child::after {width: 0;}#sk-container-id-1 div.sk-dashed-wrapped {border: 1px dashed gray;margin: 0 0.4em 0.5em 0.4em;box-sizing: border-box;padding-bottom: 0.4em;background-color: white;}#sk-container-id-1 div.sk-label label {font-family: monospace;font-weight: bold;display: inline-block;line-height: 1.2em;}#sk-container-id-1 div.sk-label-container {text-align: center;}#sk-container-id-1 div.sk-container {/* jupyter's `normalize.less` sets `[hidden] { display: none; }` but bootstrap.min.css set `[hidden] { display: none !important; }` so we also need the `!important` here to be able to override the default hidden behavior on the sphinx rendered scikit-learn.org. See: https://github.com/scikit-learn/scikit-learn/issues/21755 */display: inline-block !important;position: relative;}#sk-container-id-1 div.sk-text-repr-fallback {display: none;}</style><div id=\"sk-container-id-1\" class=\"sk-top-container\"><div class=\"sk-text-repr-fallback\"><pre>Pipeline(steps=[(&#x27;count_vectorizer&#x27;, CountVectorizer()),\n",
       "                (&#x27;naive_bayes&#x27;, MultinomialNB())])</pre><b>In a Jupyter environment, please rerun this cell to show the HTML representation or trust the notebook. <br />On GitHub, the HTML representation is unable to render, please try loading this page with nbviewer.org.</b></div><div class=\"sk-container\" hidden><div class=\"sk-item sk-dashed-wrapped\"><div class=\"sk-label-container\"><div class=\"sk-label sk-toggleable\"><input class=\"sk-toggleable__control sk-hidden--visually\" id=\"sk-estimator-id-1\" type=\"checkbox\" ><label for=\"sk-estimator-id-1\" class=\"sk-toggleable__label sk-toggleable__label-arrow\">Pipeline</label><div class=\"sk-toggleable__content\"><pre>Pipeline(steps=[(&#x27;count_vectorizer&#x27;, CountVectorizer()),\n",
       "                (&#x27;naive_bayes&#x27;, MultinomialNB())])</pre></div></div></div><div class=\"sk-serial\"><div class=\"sk-item\"><div class=\"sk-estimator sk-toggleable\"><input class=\"sk-toggleable__control sk-hidden--visually\" id=\"sk-estimator-id-2\" type=\"checkbox\" ><label for=\"sk-estimator-id-2\" class=\"sk-toggleable__label sk-toggleable__label-arrow\">CountVectorizer</label><div class=\"sk-toggleable__content\"><pre>CountVectorizer()</pre></div></div></div><div class=\"sk-item\"><div class=\"sk-estimator sk-toggleable\"><input class=\"sk-toggleable__control sk-hidden--visually\" id=\"sk-estimator-id-3\" type=\"checkbox\" ><label for=\"sk-estimator-id-3\" class=\"sk-toggleable__label sk-toggleable__label-arrow\">MultinomialNB</label><div class=\"sk-toggleable__content\"><pre>MultinomialNB()</pre></div></div></div></div></div></div></div>"
      ],
      "text/plain": [
       "Pipeline(steps=[('count_vectorizer', CountVectorizer()),\n",
       "                ('naive_bayes', MultinomialNB())])"
      ]
     },
     "execution_count": 14,
     "metadata": {},
     "output_type": "execute_result"
    }
   ],
   "source": [
    "from sklearn.naive_bayes import MultinomialNB\n",
    "from sklearn.pipeline import Pipeline\n",
    "\n",
    "navie_bayes_pipeline = Pipeline([('count_vectorizer', CountVectorizer()), ('naive_bayes', MultinomialNB())])\n",
    "navie_bayes_pipeline.fit(X_train, y_train)"
   ]
  },
  {
   "cell_type": "code",
   "execution_count": 15,
   "id": "a4e756c1",
   "metadata": {},
   "outputs": [
    {
     "name": "stdout",
     "output_type": "stream",
     "text": [
      "예측 결과: 2\n",
      "실제 정답: 2\n"
     ]
    }
   ],
   "source": [
    "prediction = navie_bayes_pipeline.predict(X_test)\n",
    "\n",
    "prediction[prediction == 1].argsort()\n",
    "\n",
    "print(f'예측 결과: {prediction[216]}')\n",
    "\n",
    "print('실제 정답: {}'.format(badword_df[badword_df['comments'] == X_test.to_list()[216]].hate.to_list()[0]))"
   ]
  },
  {
   "cell_type": "code",
   "execution_count": 16,
   "id": "9ae102e3",
   "metadata": {},
   "outputs": [
    {
     "data": {
      "text/plain": [
       "0.5041816009557945"
      ]
     },
     "execution_count": 16,
     "metadata": {},
     "output_type": "execute_result"
    }
   ],
   "source": [
    "navie_bayes_pipeline.score(X_test, y_test)"
   ]
  },
  {
   "cell_type": "code",
   "execution_count": 17,
   "id": "3eeafed7",
   "metadata": {},
   "outputs": [
    {
     "data": {
      "text/plain": [
       "0.5041816009557945"
      ]
     },
     "execution_count": 17,
     "metadata": {},
     "output_type": "execute_result"
    }
   ],
   "source": [
    "from sklearn.metrics import accuracy_score\n",
    "\n",
    "accuracy_score(y_test, prediction)"
   ]
  },
  {
   "cell_type": "code",
   "execution_count": 18,
   "id": "13fa262b",
   "metadata": {},
   "outputs": [],
   "source": [
    "from sklearn.metrics import accuracy_score, precision_score , recall_score , confusion_matrix, ConfusionMatrixDisplay, f1_score\n",
    "import matplotlib.pyplot as plt\n",
    "# 타겟 데이터와 예측 객체를 전달받는다.\n",
    "def get_evaluation(y_test, prediction, classifier=None, X_test=None):\n",
    "#     오차 행렬\n",
    "    confusion = confusion_matrix(y_test, prediction)\n",
    "#     정확도\n",
    "    accuracy = accuracy_score(y_test , prediction)\n",
    "#     정밀도\n",
    "    precision = precision_score(y_test , prediction, average='macro')\n",
    "#     재현율\n",
    "    recall = recall_score(y_test , prediction, average='macro')\n",
    "#     F1 score\n",
    "    f1 = f1_score(y_test, prediction, average='macro')\n",
    "\n",
    "    print('오차 행렬')\n",
    "    print(confusion)\n",
    "    print('정확도: {0:.4f}, 정밀도: {1:.4f}, 재현율: {2:.4f}, F1:{3:.4f}'.format(accuracy , precision ,recall, f1))\n",
    "    print(\"#\" * 75)\n",
    "    \n",
    "    if classifier is not None and  X_test is not None:\n",
    "        fig, axes = plt.subplots(nrows=1, ncols=2, figsize=(8,4))\n",
    "        titles_options = [(\"Confusion matrix\", None), (\"Normalized confusion matrix\", \"true\")]\n",
    "\n",
    "        for (title, normalize), ax in zip(titles_options, axes.flatten()):\n",
    "            disp = ConfusionMatrixDisplay.from_estimator(classifier, X_test, y_test, ax=ax, cmap=plt.cm.Blues, normalize=normalize)\n",
    "            disp.ax_.set_title(title)\n",
    "        plt.show()"
   ]
  },
  {
   "cell_type": "code",
   "execution_count": 19,
   "id": "54235772",
   "metadata": {},
   "outputs": [
    {
     "name": "stdout",
     "output_type": "stream",
     "text": [
      "오차 행렬\n",
      "[[189 242 179]\n",
      " [ 65 831 198]\n",
      " [136 425 246]]\n",
      "정확도: 0.5042, 정밀도: 0.4781, 재현율: 0.4581, F1:0.4544\n",
      "###########################################################################\n"
     ]
    },
    {
     "data": {
      "image/png": "[encoded data removed]",
      "text/plain": [
       "<Figure size 800x400 with 4 Axes>"
      ]
     },
     "metadata": {},
     "output_type": "display_data"
    }
   ],
   "source": [
    "get_evaluation(y_test, prediction, navie_bayes_pipeline, X_test)"
   ]
  }
 ],
 "metadata": {
  "kernelspec": {
   "display_name": "Python 3 (ipykernel)",
   "language": "python",
   "name": "python3"
  },
  "language_info": {
   "codemirror_mode": {
    "name": "ipython",
    "version": 3
   },
   "file_extension": ".py",
   "mimetype": "text/x-python",
   "name": "python",
   "nbconvert_exporter": "python",
   "pygments_lexer": "ipython3",
   "version": "3.11.5"
  }
 },
 "nbformat": 4,
 "nbformat_minor": 5
}
