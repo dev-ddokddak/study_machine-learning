{
 "cells": [
  {
   "cell_type": "markdown",
   "id": "8e1f9fbc",
   "metadata": {},
   "source": [
    "### 분류(Classifier)\n",
    "- 대표적인 지도학습 방법 중 하나이며, 다양한 문제와 정답을 학습한 뒤 별도의 테스트에서 정답을 예측한다.\n",
    "- 주어진 문제를 먼저 학습한 뒤 새로운 문제에 대한 정답을 예측하는 방식이다.\n",
    "- 이진분류(Binary Classification)의 경우 정답은 0(음성, Negative)과 1(양성, Positive)과 같이 True, False값을 가진다.  \n",
    "<div style=\"width:500px; height:200px; display: flex; margin-top: 25px; margin-bottom: 25px; margin-left: 0px;\">\n",
    "    <div>\n",
    "        <img src=\"./images/classifier01.png\" width=\"200\">  \n",
    "    </div>\n",
    "    <div style=\"width: 200px; heigth: 100px; margin-top: 25px; margin-left: 30px;\">\n",
    "        <img src=\"./images/classifier02.png\">  \n",
    "    </div>\n",
    "</div>\n",
    "- 다중 분류(Multiclass Classification)는 정답이 가질 수 있는 값은 3개 이상이다(예: 0, 1, 2).  \n",
    "<img src=\"./images/classifier03.png\" width=\"300\" style=\"margin-top: 25px; margin-left: 0px;\"> "
   ]
  },
  {
   "cell_type": "markdown",
   "id": "9100290a",
   "metadata": {},
   "source": [
    "###  📌용어 정리\n",
    "##### 피처(Feature)\n",
    "- 데이터 세트의 일반 컬럼이며, 2차원 이상의 다차원 데이터까지 통틀어 피처라고 한다.\n",
    "- 타겟을 제외한 나머지 속성을 의미한다.\n",
    "##### 레이블(Label), 클래스(Class), 타겟(Target), 결정(Decision)\n",
    "- 지도 학습 시 데이터의 학습을 위해 주어지는 정답을 의미한다.\n",
    "- 지도 학습 중, 분류의 경우 이를 레이블 또는 클래스라고도 부른다.\n",
    "\n",
    "<img src=\"./images/feature_target.png\" width=\"450\" style=\"margin-left: 0\">"
   ]
  },
  {
   "cell_type": "markdown",
   "id": "8f361fe4",
   "metadata": {},
   "source": [
    "### 분류 예측 프로세스\n",
    "<img src=\"./images/classifier_flow.png\">"
   ]
  },
  {
   "cell_type": "markdown",
   "id": "88c1f7fe",
   "metadata": {},
   "source": [
    "### 붓꽃 품종 예측\n",
    "- 다중 분류(Multiclass Classification)\n",
    "##### Featuer\n",
    "- sepal length : 꽃받침의 길이\n",
    "- sepal width : 꽃받침의 너비\n",
    "- petal length : 꽃잎의 길이\n",
    "- petal width: 꽃잎의 너비\n",
    "\n",
    "##### Target(Label)\n",
    "- 0 : Setosa\n",
    "- 1 : Vesicolor\n",
    "- 2 : Virginica"
   ]
  },
  {
   "cell_type": "code",
   "execution_count": 1,
   "id": "c0d7f617",
   "metadata": {},
   "outputs": [
    {
     "name": "stdout",
     "output_type": "stream",
     "text": [
      "1.3.0\n"
     ]
    }
   ],
   "source": [
    "import sklearn\n",
    "print(sklearn.__version__)"
   ]
  },
  {
   "cell_type": "code",
   "execution_count": 2,
   "id": "7ed11dbb",
   "metadata": {},
   "outputs": [],
   "source": [
    "# 사이킷런 라이브러리에 내장된 iris(붓꽃) 데이터\n",
    "from sklearn.datasets import load_iris\n",
    "# 결정 트리 모델\n",
    "from sklearn.tree import DecisionTreeClassifier\n",
    "# 학습 데이터 세트와 테스트 데이터 세트를 분리해주는 라이브러리\n",
    "from sklearn.model_selection import train_test_split"
   ]
  },
  {
   "cell_type": "markdown",
   "id": "b98a62f9",
   "metadata": {},
   "source": [
    "### 붓꽃 데이터 정리\n",
    "##### 키는 보통 data, target, target_name, feature_names, DESCR로 구성된다.\n",
    "- data는 feature의 데이터 세트이다.\n",
    "- target은 레이블 값이다.\n",
    "- target_names는 각 레이블의 이름이다.\n",
    "- feature_names는 feature의 이름이다.\n",
    "- DESCR은 데이터 세트에 대한 설명과 각 feature의 설명이다."
   ]
  },
  {
   "cell_type": "code",
   "execution_count": 3,
   "id": "a95ad29e",
   "metadata": {},
   "outputs": [
    {
     "name": "stdout",
     "output_type": "stream",
     "text": [
      "붓꽃 데이터 세트의 키 dict_keys(['data', 'target', 'frame', 'target_names', 'DESCR', 'feature_names', 'filename', 'data_module'])\n"
     ]
    },
    {
     "data": {
      "text/html": [
       "<div>\n",
       "<style scoped>\n",
       "    .dataframe tbody tr th:only-of-type {\n",
       "        vertical-align: middle;\n",
       "    }\n",
       "\n",
       "    .dataframe tbody tr th {\n",
       "        vertical-align: top;\n",
       "    }\n",
       "\n",
       "    .dataframe thead th {\n",
       "        text-align: right;\n",
       "    }\n",
       "</style>\n",
       "<table border=\"1\" class=\"dataframe\">\n",
       "  <thead>\n",
       "    <tr style=\"text-align: right;\">\n",
       "      <th></th>\n",
       "      <th>0</th>\n",
       "      <th>1</th>\n",
       "      <th>2</th>\n",
       "      <th>3</th>\n",
       "      <th>4</th>\n",
       "      <th>5</th>\n",
       "      <th>6</th>\n",
       "      <th>7</th>\n",
       "    </tr>\n",
       "  </thead>\n",
       "  <tbody>\n",
       "    <tr>\n",
       "      <th>key</th>\n",
       "      <td>data</td>\n",
       "      <td>target</td>\n",
       "      <td>frame</td>\n",
       "      <td>target_names</td>\n",
       "      <td>DESCR</td>\n",
       "      <td>feature_names</td>\n",
       "      <td>filename</td>\n",
       "      <td>data_module</td>\n",
       "    </tr>\n",
       "  </tbody>\n",
       "</table>\n",
       "</div>"
      ],
      "text/plain": [
       "        0       1      2             3      4              5         6  \\\n",
       "key  data  target  frame  target_names  DESCR  feature_names  filename   \n",
       "\n",
       "               7  \n",
       "key  data_module  "
      ]
     },
     "metadata": {},
     "output_type": "display_data"
    },
    {
     "name": "stdout",
     "output_type": "stream",
     "text": [
      "iris feature: [[5.1 3.5 1.4 0.2]\n",
      " [4.9 3.  1.4 0.2]\n",
      " [4.7 3.2 1.3 0.2]\n",
      " [4.6 3.1 1.5 0.2]\n",
      " [5.  3.6 1.4 0.2]]\n",
      "iris type: <class 'numpy.ndarray'>\n",
      "iris feature name: ['sepal length (cm)', 'sepal width (cm)', 'petal length (cm)', 'petal width (cm)']\n",
      "================================================================================\n",
      "iris target: [0 0 0 0 0]\n",
      "iris type: <class 'numpy.ndarray'>\n",
      "iris target name: ['setosa' 'versicolor' 'virginica']\n"
     ]
    },
    {
     "data": {
      "text/html": [
       "<div>\n",
       "<style scoped>\n",
       "    .dataframe tbody tr th:only-of-type {\n",
       "        vertical-align: middle;\n",
       "    }\n",
       "\n",
       "    .dataframe tbody tr th {\n",
       "        vertical-align: top;\n",
       "    }\n",
       "\n",
       "    .dataframe thead th {\n",
       "        text-align: right;\n",
       "    }\n",
       "</style>\n",
       "<table border=\"1\" class=\"dataframe\">\n",
       "  <thead>\n",
       "    <tr style=\"text-align: right;\">\n",
       "      <th></th>\n",
       "      <th>sepal length (cm)</th>\n",
       "      <th>sepal width (cm)</th>\n",
       "      <th>petal length (cm)</th>\n",
       "      <th>petal width (cm)</th>\n",
       "      <th>target</th>\n",
       "    </tr>\n",
       "  </thead>\n",
       "  <tbody>\n",
       "    <tr>\n",
       "      <th>0</th>\n",
       "      <td>5.1</td>\n",
       "      <td>3.5</td>\n",
       "      <td>1.4</td>\n",
       "      <td>0.2</td>\n",
       "      <td>0</td>\n",
       "    </tr>\n",
       "    <tr>\n",
       "      <th>1</th>\n",
       "      <td>4.9</td>\n",
       "      <td>3.0</td>\n",
       "      <td>1.4</td>\n",
       "      <td>0.2</td>\n",
       "      <td>0</td>\n",
       "    </tr>\n",
       "    <tr>\n",
       "      <th>2</th>\n",
       "      <td>4.7</td>\n",
       "      <td>3.2</td>\n",
       "      <td>1.3</td>\n",
       "      <td>0.2</td>\n",
       "      <td>0</td>\n",
       "    </tr>\n",
       "    <tr>\n",
       "      <th>3</th>\n",
       "      <td>4.6</td>\n",
       "      <td>3.1</td>\n",
       "      <td>1.5</td>\n",
       "      <td>0.2</td>\n",
       "      <td>0</td>\n",
       "    </tr>\n",
       "    <tr>\n",
       "      <th>4</th>\n",
       "      <td>5.0</td>\n",
       "      <td>3.6</td>\n",
       "      <td>1.4</td>\n",
       "      <td>0.2</td>\n",
       "      <td>0</td>\n",
       "    </tr>\n",
       "  </tbody>\n",
       "</table>\n",
       "</div>"
      ],
      "text/plain": [
       "   sepal length (cm)  sepal width (cm)  petal length (cm)  petal width (cm)  \\\n",
       "0                5.1               3.5                1.4               0.2   \n",
       "1                4.9               3.0                1.4               0.2   \n",
       "2                4.7               3.2                1.3               0.2   \n",
       "3                4.6               3.1                1.5               0.2   \n",
       "4                5.0               3.6                1.4               0.2   \n",
       "\n",
       "   target  \n",
       "0       0  \n",
       "1       0  \n",
       "2       0  \n",
       "3       0  \n",
       "4       0  "
      ]
     },
     "metadata": {},
     "output_type": "display_data"
    },
    {
     "name": "stdout",
     "output_type": "stream",
     "text": [
      "<class 'pandas.core.frame.DataFrame'>\n",
      "RangeIndex: 150 entries, 0 to 149\n",
      "Data columns (total 5 columns):\n",
      " #   Column             Non-Null Count  Dtype  \n",
      "---  ------             --------------  -----  \n",
      " 0   sepal length (cm)  150 non-null    float64\n",
      " 1   sepal width (cm)   150 non-null    float64\n",
      " 2   petal length (cm)  150 non-null    float64\n",
      " 3   petal width (cm)   150 non-null    float64\n",
      " 4   target             150 non-null    int32  \n",
      "dtypes: float64(4), int32(1)\n",
      "memory usage: 5.4 KB\n",
      "None\n"
     ]
    }
   ],
   "source": [
    "import pandas as pd\n",
    "\n",
    "# 붓꽃 데이터 세트 불러오기\n",
    "iris = load_iris()\n",
    "\n",
    "# 붓꽃 데이터 세트의 key값\n",
    "print(f'붓꽃 데이터 세트의 키 {iris.keys()}')\n",
    "\n",
    "keys = pd.DataFrame(iris.keys()).rename(columns={0: 'key'}).T\n",
    "display(keys)\n",
    "\n",
    "# iris.data는 feature 데이터이며, numpy.ndarray이다.\n",
    "iris_feature = iris.data\n",
    "print(f'iris feature: {iris_feature[:5]}')\n",
    "print(f'iris type: {type(iris_feature[:5])}')\n",
    "print(f'iris feature name: {iris.feature_names}')\n",
    "\n",
    "print(\"=\" * 80)\n",
    "\n",
    "# iris.target은 붓꽃 데이터 세트에서 타겟(레이블, 결정 값) 데이터를 numpy.ndarray로 가지고 있다.\n",
    "iris_target = iris.target\n",
    "print(f'iris target: {iris_target[:5]}')\n",
    "print(f'iris type: {type(iris_target[:5])}')\n",
    "print(f'iris target name: {iris.target_names}')\n",
    "\n",
    "# 붓꽃 데이터 세트 DataFrame으로 변환한다.\n",
    "iris_df = pd.DataFrame(data=iris_feature, columns=iris.feature_names)\n",
    "iris_df['target'] = iris_target\n",
    "display(iris_df.head())\n",
    "print(iris_df.info())"
   ]
  },
  {
   "cell_type": "markdown",
   "id": "72223c90",
   "metadata": {},
   "source": [
    "### 데이터 세트 분리\n",
    "##### train_test_split(feature, target, test_size, random_state )\n",
    "- 학습 데이터 세트와 테스트 데이터 세트 분리\n",
    "- feature: 전체 데이터 세트 중 feature\n",
    "- target: 전체 데이터 세트 중 target\n",
    "- test_size: 테스트 세트의 비율(0~1)\n",
    "- random_state: 매번 동일한 결과를 원할 때, 원하는 Seed값 작성"
   ]
  },
  {
   "cell_type": "code",
   "execution_count": 4,
   "id": "f36aad54",
   "metadata": {},
   "outputs": [
    {
     "name": "stdout",
     "output_type": "stream",
     "text": [
      "<class 'numpy.ndarray'> <class 'numpy.ndarray'> <class 'numpy.ndarray'> <class 'numpy.ndarray'>\n",
      "[[7.9 3.8 6.4 2. ]\n",
      " [6.8 3.2 5.9 2.3]\n",
      " [6.6 3.  4.4 1.4]\n",
      " [5.8 4.  1.2 0.2]\n",
      " [4.7 3.2 1.6 0.2]]\n",
      "======================\n",
      "[[6.3 3.3 4.7 1.6]\n",
      " [5.4 3.9 1.3 0.4]\n",
      " [6.3 2.3 4.4 1.3]\n",
      " [6.1 2.6 5.6 1.4]\n",
      " [6.3 3.4 5.6 2.4]]\n",
      "======================\n",
      "[2 2 1 0 0]\n",
      "======================\n",
      "[1 0 1 2 2]\n",
      "전체 데이터 세트 개수: 150\n",
      "학습 데이터 세트 개수: 120\n",
      "타겟 데이터 세트 개수: 30\n"
     ]
    }
   ],
   "source": [
    "import numpy as np\n",
    "\n",
    "X_train, X_test, y_train, y_test = train_test_split(iris_feature, iris_target, test_size=0.2, random_state=124)\n",
    "\n",
    "print(type(X_train), type(X_test), type(y_train), type(y_test))\n",
    "print(X_train[:5], X_test[:5], y_train[:5], y_test[:5], sep=\"\\n======================\\n\")\n",
    "print(f'전체 데이터 세트 개수: {iris_feature.__len__()}')\n",
    "print(f'학습 데이터 세트 개수: {X_train.__len__()}')\n",
    "print(f'타겟 데이터 세트 개수: {X_test.__len__()}')"
   ]
  },
  {
   "cell_type": "markdown",
   "id": "673cbef8",
   "metadata": {},
   "source": [
    "##### train_test_split(feature, target, test_size, random_state)\n",
    "- DataFrame과 Series도 분할이 가능하다."
   ]
  },
  {
   "cell_type": "code",
   "execution_count": 5,
   "id": "d60591ab",
   "metadata": {},
   "outputs": [
    {
     "data": {
      "text/html": [
       "<div>\n",
       "<style scoped>\n",
       "    .dataframe tbody tr th:only-of-type {\n",
       "        vertical-align: middle;\n",
       "    }\n",
       "\n",
       "    .dataframe tbody tr th {\n",
       "        vertical-align: top;\n",
       "    }\n",
       "\n",
       "    .dataframe thead th {\n",
       "        text-align: right;\n",
       "    }\n",
       "</style>\n",
       "<table border=\"1\" class=\"dataframe\">\n",
       "  <thead>\n",
       "    <tr style=\"text-align: right;\">\n",
       "      <th></th>\n",
       "      <th>sepal length (cm)</th>\n",
       "      <th>sepal width (cm)</th>\n",
       "      <th>petal length (cm)</th>\n",
       "      <th>petal width (cm)</th>\n",
       "      <th>target</th>\n",
       "    </tr>\n",
       "  </thead>\n",
       "  <tbody>\n",
       "    <tr>\n",
       "      <th>0</th>\n",
       "      <td>5.1</td>\n",
       "      <td>3.5</td>\n",
       "      <td>1.4</td>\n",
       "      <td>0.2</td>\n",
       "      <td>0</td>\n",
       "    </tr>\n",
       "    <tr>\n",
       "      <th>1</th>\n",
       "      <td>4.9</td>\n",
       "      <td>3.0</td>\n",
       "      <td>1.4</td>\n",
       "      <td>0.2</td>\n",
       "      <td>0</td>\n",
       "    </tr>\n",
       "    <tr>\n",
       "      <th>2</th>\n",
       "      <td>4.7</td>\n",
       "      <td>3.2</td>\n",
       "      <td>1.3</td>\n",
       "      <td>0.2</td>\n",
       "      <td>0</td>\n",
       "    </tr>\n",
       "    <tr>\n",
       "      <th>3</th>\n",
       "      <td>4.6</td>\n",
       "      <td>3.1</td>\n",
       "      <td>1.5</td>\n",
       "      <td>0.2</td>\n",
       "      <td>0</td>\n",
       "    </tr>\n",
       "    <tr>\n",
       "      <th>4</th>\n",
       "      <td>5.0</td>\n",
       "      <td>3.6</td>\n",
       "      <td>1.4</td>\n",
       "      <td>0.2</td>\n",
       "      <td>0</td>\n",
       "    </tr>\n",
       "  </tbody>\n",
       "</table>\n",
       "</div>"
      ],
      "text/plain": [
       "   sepal length (cm)  sepal width (cm)  petal length (cm)  petal width (cm)  \\\n",
       "0                5.1               3.5                1.4               0.2   \n",
       "1                4.9               3.0                1.4               0.2   \n",
       "2                4.7               3.2                1.3               0.2   \n",
       "3                4.6               3.1                1.5               0.2   \n",
       "4                5.0               3.6                1.4               0.2   \n",
       "\n",
       "   target  \n",
       "0       0  \n",
       "1       0  \n",
       "2       0  \n",
       "3       0  \n",
       "4       0  "
      ]
     },
     "execution_count": 5,
     "metadata": {},
     "output_type": "execute_result"
    }
   ],
   "source": [
    "import pandas as pd\n",
    "\n",
    "iris_df = pd.DataFrame(iris_feature, columns=iris.feature_names)\n",
    "iris_df['target'] = iris_target\n",
    "iris_df.head()"
   ]
  },
  {
   "cell_type": "code",
   "execution_count": 10,
   "id": "827d6745",
   "metadata": {},
   "outputs": [
    {
     "data": {
      "text/html": [
       "<div>\n",
       "<style scoped>\n",
       "    .dataframe tbody tr th:only-of-type {\n",
       "        vertical-align: middle;\n",
       "    }\n",
       "\n",
       "    .dataframe tbody tr th {\n",
       "        vertical-align: top;\n",
       "    }\n",
       "\n",
       "    .dataframe thead th {\n",
       "        text-align: right;\n",
       "    }\n",
       "</style>\n",
       "<table border=\"1\" class=\"dataframe\">\n",
       "  <thead>\n",
       "    <tr style=\"text-align: right;\">\n",
       "      <th></th>\n",
       "      <th>sepal length (cm)</th>\n",
       "      <th>sepal width (cm)</th>\n",
       "      <th>petal length (cm)</th>\n",
       "      <th>petal width (cm)</th>\n",
       "    </tr>\n",
       "  </thead>\n",
       "  <tbody>\n",
       "    <tr>\n",
       "      <th>0</th>\n",
       "      <td>5.1</td>\n",
       "      <td>3.5</td>\n",
       "      <td>1.4</td>\n",
       "      <td>0.2</td>\n",
       "    </tr>\n",
       "    <tr>\n",
       "      <th>1</th>\n",
       "      <td>4.9</td>\n",
       "      <td>3.0</td>\n",
       "      <td>1.4</td>\n",
       "      <td>0.2</td>\n",
       "    </tr>\n",
       "    <tr>\n",
       "      <th>2</th>\n",
       "      <td>4.7</td>\n",
       "      <td>3.2</td>\n",
       "      <td>1.3</td>\n",
       "      <td>0.2</td>\n",
       "    </tr>\n",
       "    <tr>\n",
       "      <th>3</th>\n",
       "      <td>4.6</td>\n",
       "      <td>3.1</td>\n",
       "      <td>1.5</td>\n",
       "      <td>0.2</td>\n",
       "    </tr>\n",
       "    <tr>\n",
       "      <th>4</th>\n",
       "      <td>5.0</td>\n",
       "      <td>3.6</td>\n",
       "      <td>1.4</td>\n",
       "      <td>0.2</td>\n",
       "    </tr>\n",
       "  </tbody>\n",
       "</table>\n",
       "</div>"
      ],
      "text/plain": [
       "   sepal length (cm)  sepal width (cm)  petal length (cm)  petal width (cm)\n",
       "0                5.1               3.5                1.4               0.2\n",
       "1                4.9               3.0                1.4               0.2\n",
       "2                4.7               3.2                1.3               0.2\n",
       "3                4.6               3.1                1.5               0.2\n",
       "4                5.0               3.6                1.4               0.2"
      ]
     },
     "metadata": {},
     "output_type": "display_data"
    },
    {
     "data": {
      "text/plain": [
       "0    0\n",
       "1    0\n",
       "2    0\n",
       "3    0\n",
       "4    0\n",
       "Name: target, dtype: int32"
      ]
     },
     "metadata": {},
     "output_type": "display_data"
    }
   ],
   "source": [
    "feature_df = iris_df.iloc[:, :-1]\n",
    "target_df = iris_df.loc[:, 'target']\n",
    "\n",
    "display(feature_df.head())\n",
    "display(target_df.head())"
   ]
  },
  {
   "cell_type": "code",
   "execution_count": 18,
   "id": "ed467d6a",
   "metadata": {},
   "outputs": [
    {
     "name": "stdout",
     "output_type": "stream",
     "text": [
      "     sepal length (cm)  sepal width (cm)  petal length (cm)  petal width (cm)\n",
      "8                  4.4               2.9                1.4               0.2\n",
      "149                5.9               3.0                5.1               1.8\n",
      "15                 5.7               4.4                1.5               0.4\n",
      "18                 5.7               3.8                1.7               0.3\n",
      "33                 5.5               4.2                1.4               0.2\n",
      "     sepal length (cm)  sepal width (cm)  petal length (cm)  petal width (cm)\n",
      "56                 6.3               3.3                4.7               1.6\n",
      "16                 5.4               3.9                1.3               0.4\n",
      "87                 6.3               2.3                4.4               1.3\n",
      "134                6.1               2.6                5.6               1.4\n",
      "136                6.3               3.4                5.6               2.4\n",
      "8      0\n",
      "149    2\n",
      "15     0\n",
      "18     0\n",
      "33     0\n",
      "Name: target, dtype: int32\n",
      "56     1\n",
      "16     0\n",
      "87     1\n",
      "134    2\n",
      "136    2\n",
      "Name: target, dtype: int32\n",
      "전체 데이터 세트 개수: 150\n",
      "학습 데이터 세트 개수: 75\n",
      "타겟 데이터 세트 개수: 75\n"
     ]
    }
   ],
   "source": [
    "X_train, X_test, y_train, y_test = train_test_split(feature_df, target_df, test_size=0.5, random_state=124)\n",
    "\n",
    "print(X_train[:5], X_test[:5], y_train[:5], y_test[:5], sep=\"\\n\")\n",
    "print(f'전체 데이터 세트 개수: {iris_feature.__len__()}')\n",
    "print(f'학습 데이터 세트 개수: {X_train.__len__()}')\n",
    "print(f'타겟 데이터 세트 개수: {X_test.__len__()}')"
   ]
  },
  {
   "cell_type": "markdown",
   "id": "51a04c3d",
   "metadata": {},
   "source": [
    "### 모델 학습\n",
    "##### fit(train_feature, train_target)\n",
    "- 모델을 학습시킬 때 사용한다.\n",
    "- train_feature: 학습 데이터 세트 중 feature\n",
    "- train_target: 훈련 데이터 세트 중 target"
   ]
  },
  {
   "cell_type": "code",
   "execution_count": 19,
   "id": "8d728c7d",
   "metadata": {},
   "outputs": [
    {
     "data": {
      "text/html": [
       "<style>#sk-container-id-3 {color: black;}#sk-container-id-3 pre{padding: 0;}#sk-container-id-3 div.sk-toggleable {background-color: white;}#sk-container-id-3 label.sk-toggleable__label {cursor: pointer;display: block;width: 100%;margin-bottom: 0;padding: 0.3em;box-sizing: border-box;text-align: center;}#sk-container-id-3 label.sk-toggleable__label-arrow:before {content: \"▸\";float: left;margin-right: 0.25em;color: #696969;}#sk-container-id-3 label.sk-toggleable__label-arrow:hover:before {color: black;}#sk-container-id-3 div.sk-estimator:hover label.sk-toggleable__label-arrow:before {color: black;}#sk-container-id-3 div.sk-toggleable__content {max-height: 0;max-width: 0;overflow: hidden;text-align: left;background-color: #f0f8ff;}#sk-container-id-3 div.sk-toggleable__content pre {margin: 0.2em;color: black;border-radius: 0.25em;background-color: #f0f8ff;}#sk-container-id-3 input.sk-toggleable__control:checked~div.sk-toggleable__content {max-height: 200px;max-width: 100%;overflow: auto;}#sk-container-id-3 input.sk-toggleable__control:checked~label.sk-toggleable__label-arrow:before {content: \"▾\";}#sk-container-id-3 div.sk-estimator input.sk-toggleable__control:checked~label.sk-toggleable__label {background-color: #d4ebff;}#sk-container-id-3 div.sk-label input.sk-toggleable__control:checked~label.sk-toggleable__label {background-color: #d4ebff;}#sk-container-id-3 input.sk-hidden--visually {border: 0;clip: rect(1px 1px 1px 1px);clip: rect(1px, 1px, 1px, 1px);height: 1px;margin: -1px;overflow: hidden;padding: 0;position: absolute;width: 1px;}#sk-container-id-3 div.sk-estimator {font-family: monospace;background-color: #f0f8ff;border: 1px dotted black;border-radius: 0.25em;box-sizing: border-box;margin-bottom: 0.5em;}#sk-container-id-3 div.sk-estimator:hover {background-color: #d4ebff;}#sk-container-id-3 div.sk-parallel-item::after {content: \"\";width: 100%;border-bottom: 1px solid gray;flex-grow: 1;}#sk-container-id-3 div.sk-label:hover label.sk-toggleable__label {background-color: #d4ebff;}#sk-container-id-3 div.sk-serial::before {content: \"\";position: absolute;border-left: 1px solid gray;box-sizing: border-box;top: 0;bottom: 0;left: 50%;z-index: 0;}#sk-container-id-3 div.sk-serial {display: flex;flex-direction: column;align-items: center;background-color: white;padding-right: 0.2em;padding-left: 0.2em;position: relative;}#sk-container-id-3 div.sk-item {position: relative;z-index: 1;}#sk-container-id-3 div.sk-parallel {display: flex;align-items: stretch;justify-content: center;background-color: white;position: relative;}#sk-container-id-3 div.sk-item::before, #sk-container-id-3 div.sk-parallel-item::before {content: \"\";position: absolute;border-left: 1px solid gray;box-sizing: border-box;top: 0;bottom: 0;left: 50%;z-index: -1;}#sk-container-id-3 div.sk-parallel-item {display: flex;flex-direction: column;z-index: 1;position: relative;background-color: white;}#sk-container-id-3 div.sk-parallel-item:first-child::after {align-self: flex-end;width: 50%;}#sk-container-id-3 div.sk-parallel-item:last-child::after {align-self: flex-start;width: 50%;}#sk-container-id-3 div.sk-parallel-item:only-child::after {width: 0;}#sk-container-id-3 div.sk-dashed-wrapped {border: 1px dashed gray;margin: 0 0.4em 0.5em 0.4em;box-sizing: border-box;padding-bottom: 0.4em;background-color: white;}#sk-container-id-3 div.sk-label label {font-family: monospace;font-weight: bold;display: inline-block;line-height: 1.2em;}#sk-container-id-3 div.sk-label-container {text-align: center;}#sk-container-id-3 div.sk-container {/* jupyter's `normalize.less` sets `[hidden] { display: none; }` but bootstrap.min.css set `[hidden] { display: none !important; }` so we also need the `!important` here to be able to override the default hidden behavior on the sphinx rendered scikit-learn.org. See: https://github.com/scikit-learn/scikit-learn/issues/21755 */display: inline-block !important;position: relative;}#sk-container-id-3 div.sk-text-repr-fallback {display: none;}</style><div id=\"sk-container-id-3\" class=\"sk-top-container\"><div class=\"sk-text-repr-fallback\"><pre>DecisionTreeClassifier()</pre><b>In a Jupyter environment, please rerun this cell to show the HTML representation or trust the notebook. <br />On GitHub, the HTML representation is unable to render, please try loading this page with nbviewer.org.</b></div><div class=\"sk-container\" hidden><div class=\"sk-item\"><div class=\"sk-estimator sk-toggleable\"><input class=\"sk-toggleable__control sk-hidden--visually\" id=\"sk-estimator-id-3\" type=\"checkbox\" checked><label for=\"sk-estimator-id-3\" class=\"sk-toggleable__label sk-toggleable__label-arrow\">DecisionTreeClassifier</label><div class=\"sk-toggleable__content\"><pre>DecisionTreeClassifier()</pre></div></div></div></div></div>"
      ],
      "text/plain": [
       "DecisionTreeClassifier()"
      ]
     },
     "execution_count": 19,
     "metadata": {},
     "output_type": "execute_result"
    }
   ],
   "source": [
    "# DecisionTreeClassifier 객체 생성\n",
    "decision_tree_classifier = DecisionTreeClassifier()\n",
    "\n",
    "# 모델 학습 수행\n",
    "decision_tree_classifier.fit(X_train, y_train)"
   ]
  },
  {
   "cell_type": "markdown",
   "id": "e21ad602",
   "metadata": {},
   "source": [
    "### 예측 수행\n",
    "##### predict(test_feature)\n",
    "- 학습된 모델에 테스트 데이터 세트의 feature를 전달하여 target을 예측한다.\n",
    "- test_feature: 테스트 데이터 세트 중 feature"
   ]
  },
  {
   "cell_type": "code",
   "execution_count": 20,
   "id": "9ee14b89",
   "metadata": {},
   "outputs": [
    {
     "name": "stdout",
     "output_type": "stream",
     "text": [
      "[1 0 1 2 2 2 1 0 2 1 2 2 1 2 2 0 1 2 1 2 0 0 0 0 0 2 2 1 0 2 2 2 1 0 0 2 2\n",
      " 0 2 2 0 1 1 0 2 2 1 0 2 2 2 0 1 2 0 2 1 1 0 0 1 2 1 0 2 0 0 2 2 2 2 0 0 1\n",
      " 0]\n"
     ]
    }
   ],
   "source": [
    "prediction = decision_tree_classfier.predict(X_test)\n",
    "print(prediction)"
   ]
  },
  {
   "cell_type": "markdown",
   "id": "e62a50f7",
   "metadata": {},
   "source": [
    "### 정확도\n",
    "##### accuracy_score(test_target, prediction)\n",
    "- 모델의 예측 정확도(Accuracy)를 사용하여 예측률을 구하여 평가할 수 있다."
   ]
  },
  {
   "cell_type": "code",
   "execution_count": 21,
   "id": "172727a5",
   "metadata": {},
   "outputs": [
    {
     "name": "stdout",
     "output_type": "stream",
     "text": [
      "예측 정확도: 0.96\n"
     ]
    }
   ],
   "source": [
    "from sklearn.metrics import accuracy_score\n",
    "print(f\"예측 정확도: {accuracy_score(y_test, prediction)}\")"
   ]
  }
 ],
 "metadata": {
  "kernelspec": {
   "display_name": "Python 3 (ipykernel)",
   "language": "python",
   "name": "python3"
  },
  "language_info": {
   "codemirror_mode": {
    "name": "ipython",
    "version": 3
   },
   "file_extension": ".py",
   "mimetype": "text/x-python",
   "name": "python",
   "nbconvert_exporter": "python",
   "pygments_lexer": "ipython3",
   "version": "3.11.5"
  }
 },
 "nbformat": 4,
 "nbformat_minor": 5
}
